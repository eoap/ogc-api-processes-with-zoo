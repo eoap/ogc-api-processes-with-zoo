{
 "cells": [
  {
   "cell_type": "code",
   "execution_count": null,
   "metadata": {},
   "outputs": [],
   "source": [
    "import requests\n",
    "\n",
    "ogc_api_endpoint = \"http://zoo-project-dru-service/ogc-api/processes\"\n",
    "\n",
    "r = requests.get(ogc_api_endpoint)\n",
    "\n",
    "print(r.json())\n"
   ]
  }
 ],
 "metadata": {
  "language_info": {
   "name": "python"
  }
 },
 "nbformat": 4,
 "nbformat_minor": 2
}
