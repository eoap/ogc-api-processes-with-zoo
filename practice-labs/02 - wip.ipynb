{
 "cells": [
  {
   "cell_type": "code",
   "execution_count": 1,
   "metadata": {},
   "outputs": [
    {
     "name": "stdout",
     "output_type": "stream",
     "text": [
      "{'processes': [{'id': 'echo', 'title': 'Echo input', 'description': 'Simply echo the value provided as input', 'mutable': False, 'version': '2.0.0', 'metadata': [{'title': 'Demo'}], 'jobControlOptions': ['sync-execute', 'async-execute', 'dismiss'], 'outputTransmission': ['value', 'reference'], 'links': [{'rel': 'self', 'type': 'application/json', 'title': 'Process Description', 'href': 'http://localhost:8080/alice/ogc-api/processes/echo'}]}], 'links': [{'rel': 'self', 'type': 'application/json', 'href': 'http://localhost:8080/alice/ogc-api/processes'}], 'numberTotal': 1}\n"
     ]
    }
   ],
   "source": [
    "import requests\n",
    "\n",
    "ogc_api_endpoint = \"http://zoo-project-dru-service/alice/ogc-api/processes\"\n",
    "\n",
    "r = requests.get(ogc_api_endpoint)\n",
    "\n",
    "print(r.json())\n"
   ]
  },
  {
   "cell_type": "code",
   "execution_count": 2,
   "metadata": {},
   "outputs": [],
   "source": [
    "headers = {}\n",
    "response = requests.post(\n",
    "    f\"{ogc_api_endpoint}\",\n",
    "    headers = dict([(\"Content-Type\", \"application/json\")], **headers),\n",
    "    json = {\n",
    "      \"executionUnit\": {\n",
    "        \"href\": \"https://github.com/Terradue/ogc-eo-application-package-hands-on/releases/download/1.5.0/app-water-bodies-cloud-native.1.5.0.cwl\",\n",
    "        \"type\": \"application/cwl\"\n",
    "      }\n",
    "    }\n",
    ")"
   ]
  },
  {
   "cell_type": "code",
   "execution_count": 3,
   "metadata": {},
   "outputs": [
    {
     "name": "stdout",
     "output_type": "stream",
     "text": [
      "{'id': 'water_bodies', 'title': 'Water bodies detection based on NDWI and otsu threshold', 'description': 'Water bodies detection based on NDWI and otsu threshold', 'mutable': True, 'version': '1.4.1', 'metadata': [{'role': 'https://schema.org/softwareVersion', 'value': '1.4.1'}], 'outputTransmission': ['value', 'reference'], 'jobControlOptions': ['async-execute', 'dismiss'], 'links': [{'rel': 'http://www.opengis.net/def/rel/ogc/1.0/execute', 'type': 'application/json', 'title': 'Execute End Point', 'href': 'http://localhost:8080/alice/ogc-api/processes/water_bodies/execution'}]}\n"
     ]
    }
   ],
   "source": [
    "print(response.json())"
   ]
  },
  {
   "cell_type": "code",
   "execution_count": 4,
   "metadata": {},
   "outputs": [
    {
     "name": "stdout",
     "output_type": "stream",
     "text": [
      "201\n"
     ]
    }
   ],
   "source": [
    "print(response.status_code)"
   ]
  },
  {
   "cell_type": "code",
   "execution_count": 5,
   "metadata": {},
   "outputs": [
    {
     "name": "stdout",
     "output_type": "stream",
     "text": [
      "{\"id\":\"water_bodies\",\"title\":\"Water bodies detection based on NDWI and otsu threshold\",\"description\":\"Water bodies detection based on NDWI and otsu threshold\",\"mutable\":true,\"version\":\"1.4.1\",\"metadata\":[{\"role\":\"https://schema.org/softwareVersion\",\"value\":\"1.4.1\"}],\"outputTransmission\":[\"value\",\"reference\"],\"jobControlOptions\":[\"async-execute\",\"dismiss\"],\"links\":[{\"rel\":\"http://www.opengis.net/def/rel/ogc/1.0/execute\",\"type\":\"application/json\",\"title\":\"Execute End Point\",\"href\":\"http://localhost:8080/alice/ogc-api/processes/water_bodies/execution\"}]}\n",
      "\n"
     ]
    }
   ],
   "source": [
    "print(response.text)"
   ]
  },
  {
   "cell_type": "code",
   "execution_count": 6,
   "metadata": {},
   "outputs": [
    {
     "name": "stdout",
     "output_type": "stream",
     "text": [
      "201\n",
      "{'jobID': '416d9012-8b78-11ef-be1a-52ded859c017', 'type': 'process', 'processID': 'water_bodies', 'created': '2024-10-16T04:36:48.586Z', 'started': '2024-10-16T04:36:48.586Z', 'updated': '2024-10-16T04:36:48.586Z', 'status': 'running', 'message': 'ZOO-Kernel accepted to run your service!', 'links': [{'title': 'Status location', 'rel': 'monitor', 'type': 'application/json', 'href': 'http://localhost:8080/alice/ogc-api/jobs/416d9012-8b78-11ef-be1a-52ded859c017'}]}\n"
     ]
    }
   ],
   "source": [
    "headers = {\n",
    "    'accept': '*/*',\n",
    "    'Prefer': 'respond-async;return=representation',\n",
    "    'Content-Type': 'application/json'\n",
    "}\n",
    "data = {\n",
    "    \"inputs\": {\n",
    "        \"stac_items\": [\n",
    "            \"https://earth-search.aws.element84.com/v0/collections/sentinel-s2-l2a-cogs/items/S2B_10TFK_20210713_0_L2A\",\n",
    "            \"https://earth-search.aws.element84.com/v0/collections/sentinel-s2-l2a-cogs/items/S2A_10TFK_20220524_0_L2A\"\n",
    "        ],\n",
    "        \"aoi\": \"-121.399,39.834,-120.74,40.472\",\n",
    "        \"epsg\": \"EPSG:4326\",\n",
    "        \"bands\": [\n",
    "            \"green\",\n",
    "            \"nir\"\n",
    "        ]\n",
    "    }\n",
    "}\n",
    "\n",
    "response = requests.post(f\"{ogc_api_endpoint}/water_bodies/execution\", headers=headers, json=data)\n",
    "\n",
    "print(response.status_code)\n",
    "print(response.json())"
   ]
  },
  {
   "cell_type": "code",
   "execution_count": 7,
   "metadata": {},
   "outputs": [],
   "source": [
    "jobid = response.json().get(\"jobID\")"
   ]
  },
  {
   "cell_type": "code",
   "execution_count": 8,
   "metadata": {},
   "outputs": [
    {
     "name": "stdout",
     "output_type": "stream",
     "text": [
      "Job status: running\n",
      "Job status: running\n",
      "Job status: running\n",
      "Job status: running\n",
      "Job status: running\n",
      "Job status: running\n",
      "Job status: running\n",
      "Job status: running\n",
      "Job status: running\n",
      "Job status: running\n",
      "Job status: running\n",
      "Job status: running\n",
      "Job status: running\n",
      "Job status: running\n",
      "Job status: running\n",
      "Job status: running\n",
      "Job status: running\n",
      "Job status: running\n",
      "Job status: running\n",
      "Job status: running\n",
      "Job status: successful\n"
     ]
    }
   ],
   "source": [
    "import time\n",
    "job_url = 'http://zoo-project-dru-service/alice' + '/ogc-api/jobs/' + jobid\n",
    "\n",
    "headers = {\n",
    "    'accept': 'application/json',\n",
    "}\n",
    "\n",
    "while True:\n",
    "    response = requests.get(job_url, headers=headers)\n",
    "\n",
    "    if response.status_code == 200:\n",
    "        data = response.json()\n",
    "        status = data.get(\"status\")\n",
    "        if status == \"successful\":\n",
    "            print(\"Job status:\", status)\n",
    "            break  # Exit the loop if OK\n",
    "        else:\n",
    "            print(\"Job status:\", status)\n",
    "            time.sleep(10)\n",
    "    else:\n",
    "        print(\"Error:\", response.status_code)\n",
    "        break  "
   ]
  },
  {
   "cell_type": "code",
   "execution_count": 9,
   "metadata": {},
   "outputs": [
    {
     "name": "stdout",
     "output_type": "stream",
     "text": [
      "{'jobID': '416d9012-8b78-11ef-be1a-52ded859c017', 'type': 'process', 'processID': 'water_bodies', 'created': '2024-10-16T04:36:48.586Z', 'started': '2024-10-16T04:36:48.586Z', 'finished': '2024-10-16T04:40:21.469Z', 'updated': '2024-10-16T04:40:21.204Z', 'status': 'successful', 'message': 'ZOO-Kernel successfully run your service!', 'links': [{'title': 'Status location', 'rel': 'monitor', 'type': 'application/json', 'href': 'http://localhost:8080/alice/ogc-api/jobs/416d9012-8b78-11ef-be1a-52ded859c017'}, {'title': 'Result location', 'rel': 'http://www.opengis.net/def/rel/ogc/1.0/results', 'type': 'application/json', 'href': 'http://localhost:8080/alice/ogc-api/jobs/416d9012-8b78-11ef-be1a-52ded859c017/results'}, {'href': 'http://localhost:8080/alice/temp/water_bodies-416d9012-8b78-11ef-be1a-52ded859c017/node_crop.log', 'title': 'Tool log node_crop.log', 'rel': 'related', 'type': 'text/plain'}, {'href': 'http://localhost:8080/alice/temp/water_bodies-416d9012-8b78-11ef-be1a-52ded859c017/node_crop_2.log', 'title': 'Tool log node_crop_2.log', 'rel': 'related', 'type': 'text/plain'}, {'href': 'http://localhost:8080/alice/temp/water_bodies-416d9012-8b78-11ef-be1a-52ded859c017/node_crop_3.log', 'title': 'Tool log node_crop_3.log', 'rel': 'related', 'type': 'text/plain'}, {'href': 'http://localhost:8080/alice/temp/water_bodies-416d9012-8b78-11ef-be1a-52ded859c017/node_normalized_difference.log', 'title': 'Tool log node_normalized_difference.log', 'rel': 'related', 'type': 'text/plain'}, {'href': 'http://localhost:8080/alice/temp/water_bodies-416d9012-8b78-11ef-be1a-52ded859c017/node_crop_4.log', 'title': 'Tool log node_crop_4.log', 'rel': 'related', 'type': 'text/plain'}, {'href': 'http://localhost:8080/alice/temp/water_bodies-416d9012-8b78-11ef-be1a-52ded859c017/node_otsu.log', 'title': 'Tool log node_otsu.log', 'rel': 'related', 'type': 'text/plain'}, {'href': 'http://localhost:8080/alice/temp/water_bodies-416d9012-8b78-11ef-be1a-52ded859c017/node_normalized_difference_2.log', 'title': 'Tool log node_normalized_difference_2.log', 'rel': 'related', 'type': 'text/plain'}, {'href': 'http://localhost:8080/alice/temp/water_bodies-416d9012-8b78-11ef-be1a-52ded859c017/node_otsu_2.log', 'title': 'Tool log node_otsu_2.log', 'rel': 'related', 'type': 'text/plain'}, {'href': 'http://localhost:8080/alice/temp/water_bodies-416d9012-8b78-11ef-be1a-52ded859c017/node_stac.log', 'title': 'Tool log node_stac.log', 'rel': 'related', 'type': 'text/plain'}, {'href': 'http://localhost:8080/alice/temp/water_bodies-416d9012-8b78-11ef-be1a-52ded859c017/node_stage_out.log', 'title': 'Tool log node_stage_out.log', 'rel': 'related', 'type': 'text/plain'}]}\n"
     ]
    }
   ],
   "source": [
    "job_results = 'http://zoo-project-dru-service/alice' + '/ogc-api/jobs/' + jobid + \"/results\"\n",
    "\n",
    "headers = {\n",
    "    'accept': 'application/json',\n",
    "}\n",
    "response = requests.get(job_url, headers=headers)\n",
    "\n",
    "print(response.json())"
   ]
  },
  {
   "cell_type": "code",
   "execution_count": 10,
   "metadata": {},
   "outputs": [
    {
     "data": {
      "text/plain": [
       "{'jobID': '416d9012-8b78-11ef-be1a-52ded859c017',\n",
       " 'type': 'process',\n",
       " 'processID': 'water_bodies',\n",
       " 'created': '2024-10-16T04:36:48.586Z',\n",
       " 'started': '2024-10-16T04:36:48.586Z',\n",
       " 'finished': '2024-10-16T04:40:21.469Z',\n",
       " 'updated': '2024-10-16T04:40:21.204Z',\n",
       " 'status': 'successful',\n",
       " 'message': 'ZOO-Kernel successfully run your service!',\n",
       " 'links': [{'title': 'Status location',\n",
       "   'rel': 'monitor',\n",
       "   'type': 'application/json',\n",
       "   'href': 'http://localhost:8080/alice/ogc-api/jobs/416d9012-8b78-11ef-be1a-52ded859c017'},\n",
       "  {'title': 'Result location',\n",
       "   'rel': 'http://www.opengis.net/def/rel/ogc/1.0/results',\n",
       "   'type': 'application/json',\n",
       "   'href': 'http://localhost:8080/alice/ogc-api/jobs/416d9012-8b78-11ef-be1a-52ded859c017/results'},\n",
       "  {'href': 'http://localhost:8080/alice/temp/water_bodies-416d9012-8b78-11ef-be1a-52ded859c017/node_crop.log',\n",
       "   'title': 'Tool log node_crop.log',\n",
       "   'rel': 'related',\n",
       "   'type': 'text/plain'},\n",
       "  {'href': 'http://localhost:8080/alice/temp/water_bodies-416d9012-8b78-11ef-be1a-52ded859c017/node_crop_2.log',\n",
       "   'title': 'Tool log node_crop_2.log',\n",
       "   'rel': 'related',\n",
       "   'type': 'text/plain'},\n",
       "  {'href': 'http://localhost:8080/alice/temp/water_bodies-416d9012-8b78-11ef-be1a-52ded859c017/node_crop_3.log',\n",
       "   'title': 'Tool log node_crop_3.log',\n",
       "   'rel': 'related',\n",
       "   'type': 'text/plain'},\n",
       "  {'href': 'http://localhost:8080/alice/temp/water_bodies-416d9012-8b78-11ef-be1a-52ded859c017/node_normalized_difference.log',\n",
       "   'title': 'Tool log node_normalized_difference.log',\n",
       "   'rel': 'related',\n",
       "   'type': 'text/plain'},\n",
       "  {'href': 'http://localhost:8080/alice/temp/water_bodies-416d9012-8b78-11ef-be1a-52ded859c017/node_crop_4.log',\n",
       "   'title': 'Tool log node_crop_4.log',\n",
       "   'rel': 'related',\n",
       "   'type': 'text/plain'},\n",
       "  {'href': 'http://localhost:8080/alice/temp/water_bodies-416d9012-8b78-11ef-be1a-52ded859c017/node_otsu.log',\n",
       "   'title': 'Tool log node_otsu.log',\n",
       "   'rel': 'related',\n",
       "   'type': 'text/plain'},\n",
       "  {'href': 'http://localhost:8080/alice/temp/water_bodies-416d9012-8b78-11ef-be1a-52ded859c017/node_normalized_difference_2.log',\n",
       "   'title': 'Tool log node_normalized_difference_2.log',\n",
       "   'rel': 'related',\n",
       "   'type': 'text/plain'},\n",
       "  {'href': 'http://localhost:8080/alice/temp/water_bodies-416d9012-8b78-11ef-be1a-52ded859c017/node_otsu_2.log',\n",
       "   'title': 'Tool log node_otsu_2.log',\n",
       "   'rel': 'related',\n",
       "   'type': 'text/plain'},\n",
       "  {'href': 'http://localhost:8080/alice/temp/water_bodies-416d9012-8b78-11ef-be1a-52ded859c017/node_stac.log',\n",
       "   'title': 'Tool log node_stac.log',\n",
       "   'rel': 'related',\n",
       "   'type': 'text/plain'},\n",
       "  {'href': 'http://localhost:8080/alice/temp/water_bodies-416d9012-8b78-11ef-be1a-52ded859c017/node_stage_out.log',\n",
       "   'title': 'Tool log node_stage_out.log',\n",
       "   'rel': 'related',\n",
       "   'type': 'text/plain'}]}"
      ]
     },
     "execution_count": 10,
     "metadata": {},
     "output_type": "execute_result"
    }
   ],
   "source": [
    "response.json()"
   ]
  },
  {
   "cell_type": "code",
   "execution_count": 12,
   "metadata": {},
   "outputs": [
    {
     "data": {
      "text/plain": [
       "{'id': 'water_bodies',\n",
       " 'title': 'Water bodies detection based on NDWI and otsu threshold',\n",
       " 'description': 'Water bodies detection based on NDWI and otsu threshold',\n",
       " 'mutable': True,\n",
       " 'version': '1.4.1',\n",
       " 'metadata': [{'role': 'https://schema.org/softwareVersion',\n",
       "   'value': '1.4.1'}],\n",
       " 'outputTransmission': ['value', 'reference'],\n",
       " 'jobControlOptions': ['async-execute', 'dismiss'],\n",
       " 'links': [{'rel': 'http://www.opengis.net/def/rel/ogc/1.0/execute',\n",
       "   'type': 'application/json',\n",
       "   'title': 'Execute End Point',\n",
       "   'href': 'http://localhost:8080/alice/ogc-api/processes/water_bodies/execution'}],\n",
       " 'inputs': {'aoi': {'title': 'area of interest',\n",
       "   'description': 'area of interest as a bounding box',\n",
       "   'schema': {'type': 'string'}},\n",
       "  'bands': {'title': 'bands used for the NDWI',\n",
       "   'description': 'bands used for the NDWI',\n",
       "   'schema': {'type': 'string', 'default': \"['green', 'nir']\"}},\n",
       "  'epsg': {'title': 'EPSG code',\n",
       "   'description': 'EPSG code',\n",
       "   'schema': {'type': 'string', 'default': 'EPSG:4326', 'nullable': True}},\n",
       "  'stac_items': {'title': 'Sentinel-2 STAC items',\n",
       "   'description': 'list of Sentinel-2 COG STAC items',\n",
       "   'schema': {'type': 'string'}}},\n",
       " 'outputs': {'stac_catalog': {'title': 'stac_catalog',\n",
       "   'description': 'None',\n",
       "   'extended-schema': {'oneOf': [{'allOf': [{'$ref': 'http://zoo-project.org/dl/link.json'},\n",
       "       {'type': 'object',\n",
       "        'properties': {'type': {'enum': ['application/json']}}}]},\n",
       "     {'type': 'object',\n",
       "      'required': ['value'],\n",
       "      'properties': {'value': {'oneOf': [{'type': 'object'}]}}}]},\n",
       "   'schema': {'oneOf': [{'type': 'object'}]}}}}"
      ]
     },
     "execution_count": 12,
     "metadata": {},
     "output_type": "execute_result"
    }
   ],
   "source": [
    "ogc_api_endpoint = \"http://zoo-project-dru-service/alice/ogc-api/processes\"\n",
    "\n",
    "r = requests.get(f\"{ogc_api_endpoint}/water_bodies\")\n",
    "\n",
    "r.json()"
   ]
  },
  {
   "cell_type": "code",
   "execution_count": null,
   "metadata": {},
   "outputs": [],
   "source": []
  }
 ],
 "metadata": {
  "kernelspec": {
   "display_name": "Python (ZOO-Project)",
   "language": "python",
   "name": "zoo_env"
  },
  "language_info": {
   "codemirror_mode": {
    "name": "ipython",
    "version": 3
   },
   "file_extension": ".py",
   "mimetype": "text/x-python",
   "name": "python",
   "nbconvert_exporter": "python",
   "pygments_lexer": "ipython3",
   "version": "3.9.19"
  }
 },
 "nbformat": 4,
 "nbformat_minor": 2
}
