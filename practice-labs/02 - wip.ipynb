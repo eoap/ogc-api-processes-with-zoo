{
 "cells": [
  {
   "cell_type": "code",
   "execution_count": 1,
   "metadata": {},
   "outputs": [
    {
     "data": {
      "text/plain": [
       "{'processes': [{'id': 'echo',\n",
       "   'title': 'Echo input',\n",
       "   'description': 'Simply echo the value provided as input',\n",
       "   'mutable': False,\n",
       "   'version': '2.0.0',\n",
       "   'metadata': [{'title': 'Demo'}],\n",
       "   'jobControlOptions': ['sync-execute', 'async-execute', 'dismiss'],\n",
       "   'outputTransmission': ['value', 'reference'],\n",
       "   'links': [{'rel': 'self',\n",
       "     'type': 'application/json',\n",
       "     'title': 'Process Description',\n",
       "     'href': 'http://localhost:8080/alice/ogc-api/processes/echo'}]},\n",
       "  {'id': 'water_bodies',\n",
       "   'title': 'Water bodies detection based on NDWI and otsu threshold',\n",
       "   'description': 'Water bodies detection based on NDWI and otsu threshold',\n",
       "   'mutable': True,\n",
       "   'version': '1.4.1',\n",
       "   'metadata': [{'role': 'https://schema.org/softwareVersion',\n",
       "     'value': '1.4.1'}],\n",
       "   'outputTransmission': ['value', 'reference'],\n",
       "   'jobControlOptions': ['async-execute', 'dismiss'],\n",
       "   'links': [{'rel': 'self',\n",
       "     'type': 'application/json',\n",
       "     'title': 'Process Description',\n",
       "     'href': 'http://localhost:8080/alice/ogc-api/processes/water_bodies'}]}],\n",
       " 'links': [{'rel': 'self',\n",
       "   'type': 'application/json',\n",
       "   'href': 'http://localhost:8080/alice/ogc-api/processes'}],\n",
       " 'numberTotal': 2}"
      ]
     },
     "execution_count": 1,
     "metadata": {},
     "output_type": "execute_result"
    }
   ],
   "source": [
    "import requests\n",
    "import json\n",
    "from loguru import logger\n",
    "from pystac.item_collection import ItemCollection\n",
    "\n",
    "namespace = \"alice\"\n",
    "\n",
    "ogc_api_endpoint = f\"http://zoo-project-dru-service/{namespace}/ogc-api/processes\"\n",
    "\n",
    "r = requests.get(ogc_api_endpoint)\n",
    "\n",
    "r.json()\n"
   ]
  },
  {
   "cell_type": "code",
   "execution_count": 2,
   "metadata": {},
   "outputs": [
    {
     "data": {
      "text/plain": [
       "204"
      ]
     },
     "execution_count": 2,
     "metadata": {},
     "output_type": "execute_result"
    }
   ],
   "source": [
    "r = requests.delete(f\"{ogc_api_endpoint}/water_bodies\")\n",
    "r.status_code"
   ]
  },
  {
   "cell_type": "code",
   "execution_count": 3,
   "metadata": {},
   "outputs": [],
   "source": [
    "headers = {}\n",
    "response = requests.post(\n",
    "    f\"{ogc_api_endpoint}\",\n",
    "    headers = dict([(\"Content-Type\", \"application/json\")], **headers),\n",
    "    json = {\n",
    "      \"executionUnit\": {\n",
    "        \"href\": \"https://github.com/Terradue/ogc-eo-application-package-hands-on/releases/download/1.5.0/app-water-bodies-cloud-native.1.5.0.cwl\",\n",
    "        \"type\": \"application/cwl\"\n",
    "      }\n",
    "    }\n",
    ")"
   ]
  },
  {
   "cell_type": "code",
   "execution_count": 4,
   "metadata": {},
   "outputs": [
    {
     "name": "stdout",
     "output_type": "stream",
     "text": [
      "{'id': 'water_bodies', 'title': 'Water bodies detection based on NDWI and otsu threshold', 'description': 'Water bodies detection based on NDWI and otsu threshold', 'mutable': True, 'version': '1.4.1', 'metadata': [{'role': 'https://schema.org/softwareVersion', 'value': '1.4.1'}], 'outputTransmission': ['value', 'reference'], 'jobControlOptions': ['async-execute', 'dismiss'], 'links': [{'rel': 'http://www.opengis.net/def/rel/ogc/1.0/execute', 'type': 'application/json', 'title': 'Execute End Point', 'href': 'http://localhost:8080/alice/ogc-api/processes/water_bodies/execution'}]}\n"
     ]
    }
   ],
   "source": [
    "print(response.json())"
   ]
  },
  {
   "cell_type": "code",
   "execution_count": 5,
   "metadata": {},
   "outputs": [
    {
     "name": "stdout",
     "output_type": "stream",
     "text": [
      "201\n"
     ]
    }
   ],
   "source": [
    "print(response.status_code)"
   ]
  },
  {
   "cell_type": "code",
   "execution_count": 6,
   "metadata": {},
   "outputs": [
    {
     "name": "stdout",
     "output_type": "stream",
     "text": [
      "{\"id\":\"water_bodies\",\"title\":\"Water bodies detection based on NDWI and otsu threshold\",\"description\":\"Water bodies detection based on NDWI and otsu threshold\",\"mutable\":true,\"version\":\"1.4.1\",\"metadata\":[{\"role\":\"https://schema.org/softwareVersion\",\"value\":\"1.4.1\"}],\"outputTransmission\":[\"value\",\"reference\"],\"jobControlOptions\":[\"async-execute\",\"dismiss\"],\"links\":[{\"rel\":\"http://www.opengis.net/def/rel/ogc/1.0/execute\",\"type\":\"application/json\",\"title\":\"Execute End Point\",\"href\":\"http://localhost:8080/alice/ogc-api/processes/water_bodies/execution\"}]}\n",
      "\n"
     ]
    }
   ],
   "source": [
    "print(response.text)"
   ]
  },
  {
   "cell_type": "code",
   "execution_count": null,
   "metadata": {},
   "outputs": [],
   "source": [
    "ogc_api_endpoint = \"http://zoo-project-dru-service/alice/ogc-api/processes\"\n",
    "\n",
    "r = requests.get(f\"{ogc_api_endpoint}/water_bodies\")\n",
    "\n",
    "r.json()"
   ]
  },
  {
   "cell_type": "code",
   "execution_count": 7,
   "metadata": {},
   "outputs": [
    {
     "name": "stdout",
     "output_type": "stream",
     "text": [
      "201\n",
      "{'jobID': 'c6f823a2-8c57-11ef-9c0f-0ac1619c2c37', 'type': 'process', 'processID': 'water_bodies', 'created': '2024-10-17T07:16:50.299Z', 'started': '2024-10-17T07:16:50.299Z', 'updated': '2024-10-17T07:16:50.299Z', 'status': 'running', 'message': 'ZOO-Kernel accepted to run your service!', 'links': [{'title': 'Status location', 'rel': 'monitor', 'type': 'application/json', 'href': 'http://localhost:8080/alice/ogc-api/jobs/c6f823a2-8c57-11ef-9c0f-0ac1619c2c37'}]}\n"
     ]
    }
   ],
   "source": [
    "headers = {\n",
    "    'accept': '*/*',\n",
    "    'Prefer': 'respond-async;return=representation',\n",
    "    'Content-Type': 'application/json'\n",
    "}\n",
    "data = {\n",
    "    \"inputs\": {\n",
    "        \"stac_items\": [\n",
    "            \"https://earth-search.aws.element84.com/v0/collections/sentinel-s2-l2a-cogs/items/S2B_10TFK_20210713_0_L2A\",\n",
    "            \"https://earth-search.aws.element84.com/v0/collections/sentinel-s2-l2a-cogs/items/S2A_10TFK_20220524_0_L2A\"\n",
    "        ],\n",
    "        \"aoi\": \"-121.399,39.834,-120.74,40.472\",\n",
    "        \"epsg\": \"EPSG:4326\",\n",
    "        \"bands\": [\n",
    "            \"green\",\n",
    "            \"nir\"\n",
    "        ]\n",
    "    }\n",
    "}\n",
    "\n",
    "response = requests.post(f\"{ogc_api_endpoint}/water_bodies/execution\", headers=headers, json=data)\n",
    "\n",
    "print(response.status_code)\n",
    "print(response.json())"
   ]
  },
  {
   "cell_type": "code",
   "execution_count": 8,
   "metadata": {},
   "outputs": [],
   "source": [
    "jobid = response.json().get(\"jobID\")"
   ]
  },
  {
   "cell_type": "code",
   "execution_count": 9,
   "metadata": {},
   "outputs": [
    {
     "name": "stdout",
     "output_type": "stream",
     "text": [
      "Job status: running\n",
      "Job status: running\n",
      "Job status: running\n",
      "Job status: running\n",
      "Job status: running\n",
      "Job status: running\n",
      "Job status: running\n",
      "Job status: running\n",
      "Job status: running\n",
      "Job status: running\n",
      "Job status: running\n",
      "Job status: running\n",
      "Job status: running\n",
      "Job status: running\n",
      "Job status: running\n",
      "Job status: running\n",
      "Job status: running\n",
      "Job status: running\n",
      "Job status: successful\n"
     ]
    }
   ],
   "source": [
    "import time\n",
    "job_url = 'http://zoo-project-dru-service/alice' + '/ogc-api/jobs/' + jobid\n",
    "\n",
    "headers = {\n",
    "    'accept': 'application/json',\n",
    "}\n",
    "\n",
    "while True:\n",
    "    response = requests.get(job_url, headers=headers)\n",
    "\n",
    "    if response.status_code == 200:\n",
    "        data = response.json()\n",
    "        status = data.get(\"status\")\n",
    "        if status == \"successful\":\n",
    "            print(\"Job status:\", status)\n",
    "            break  # Exit the loop if OK\n",
    "        else:\n",
    "            print(\"Job status:\", status)\n",
    "            time.sleep(10)\n",
    "    else:\n",
    "        print(\"Error:\", response.status_code)\n",
    "        break  "
   ]
  },
  {
   "cell_type": "code",
   "execution_count": 10,
   "metadata": {},
   "outputs": [
    {
     "name": "stdout",
     "output_type": "stream",
     "text": [
      "{'stac_catalog': {'value': {'type': 'FeatureCollection', 'features': [{'type': 'Feature', 'stac_version': '1.0.0', 'id': 'S2B_10TFK_20210713_0_L2A', 'properties': {'proj:epsg': 32610, 'proj:geometry': {'type': 'Polygon', 'coordinates': [[[636990.0, 4410550.0], [691590.0, 4410550.0], [691590.0, 4482600.0], [636990.0, 4482600.0], [636990.0, 4410550.0]]]}, 'proj:bbox': [636990.0, 4410550.0, 691590.0, 4482600.0], 'proj:shape': [7205, 5460], 'proj:transform': [10.0, 0.0, 636990.0, 0.0, -10.0, 4482600.0, 0.0, 0.0, 1.0], 'proj:projjson': {'$schema': 'https://proj.org/schemas/v0.4/projjson.schema.json', 'type': 'ProjectedCRS', 'name': 'WGS 84 / UTM zone 10N', 'base_crs': {'name': 'WGS 84', 'datum': {'type': 'GeodeticReferenceFrame', 'name': 'World Geodetic System 1984', 'ellipsoid': {'name': 'WGS 84', 'semi_major_axis': 6378137, 'inverse_flattening': 298.257223563}}, 'coordinate_system': {'subtype': 'ellipsoidal', 'axis': [{'name': 'Geodetic latitude', 'abbreviation': 'Lat', 'direction': 'north', 'unit': 'degree'}, {'name': 'Geodetic longitude', 'abbreviation': 'Lon', 'direction': 'east', 'unit': 'degree'}]}, 'id': {'authority': 'EPSG', 'code': 4326}}, 'conversion': {'name': 'UTM zone 10N', 'method': {'name': 'Transverse Mercator', 'id': {'authority': 'EPSG', 'code': 9807}}, 'parameters': [{'name': 'Latitude of natural origin', 'value': 0, 'unit': 'degree', 'id': {'authority': 'EPSG', 'code': 8801}}, {'name': 'Longitude of natural origin', 'value': -123, 'unit': 'degree', 'id': {'authority': 'EPSG', 'code': 8802}}, {'name': 'Scale factor at natural origin', 'value': 0.9996, 'unit': 'unity', 'id': {'authority': 'EPSG', 'code': 8805}}, {'name': 'False easting', 'value': 500000, 'unit': 'metre', 'id': {'authority': 'EPSG', 'code': 8806}}, {'name': 'False northing', 'value': 0, 'unit': 'metre', 'id': {'authority': 'EPSG', 'code': 8807}}]}, 'coordinate_system': {'subtype': 'Cartesian', 'axis': [{'name': 'Easting', 'abbreviation': '', 'direction': 'east', 'unit': 'metre'}, {'name': 'Northing', 'abbreviation': '', 'direction': 'north', 'unit': 'metre'}]}, 'id': {'authority': 'EPSG', 'code': 32610}}, 'datetime': '2021-07-13T19:03:24Z'}, 'geometry': {'type': 'Polygon', 'coordinates': [[[-121.39905410179915, 39.833916743259095], [-120.76135965075635, 39.82336095080461], [-120.73995321724426, 40.471999341669175], [-121.38373773482932, 40.482798837728375], [-121.39905410179915, 39.833916743259095]]]}, 'links': [{'rel': 'collection', 'href': 's3://results/c6f823a2-8c57-11ef-9c0f-0ac1619c2c37/c6f823a2-8c57-11ef-9c0f-0ac1619c2c37/collection.json', 'type': 'application/json', 'title': 'Processing results'}, {'rel': 'root', 'href': 's3://results/c6f823a2-8c57-11ef-9c0f-0ac1619c2c37/catalog.json', 'type': 'application/json'}, {'rel': 'self', 'href': 's3://results/c6f823a2-8c57-11ef-9c0f-0ac1619c2c37/c6f823a2-8c57-11ef-9c0f-0ac1619c2c37/S2B_10TFK_20210713_0_L2A/S2B_10TFK_20210713_0_L2A.json', 'type': 'application/json'}, {'rel': 'parent', 'href': 's3://results/c6f823a2-8c57-11ef-9c0f-0ac1619c2c37/c6f823a2-8c57-11ef-9c0f-0ac1619c2c37/collection.json', 'type': 'application/json', 'title': 'Processing results'}], 'assets': {'data': {'href': 's3://results/c6f823a2-8c57-11ef-9c0f-0ac1619c2c37/c6f823a2-8c57-11ef-9c0f-0ac1619c2c37/S2B_10TFK_20210713_0_L2A/otsu.tif', 'type': 'image/tiff; application=geotiff', 'storage:platform': 'eoap', 'storage:requester_pays': False, 'storage:tier': 'Standard', 'storage:region': 'us-east-1', 'storage:endpoint': 'http://eoap-zoo-project-localstack.eoap-zoo-project.svc.cluster.local:4566', 'roles': ['data', 'visual']}}, 'bbox': [-121.39905410179915, 39.82336095080461, -120.73995321724426, 40.482798837728375], 'stac_extensions': ['https://stac-extensions.github.io/projection/v1.1.0/schema.json'], 'collection': 'c6f823a2-8c57-11ef-9c0f-0ac1619c2c37'}, {'type': 'Feature', 'stac_version': '1.0.0', 'id': 'S2A_10TFK_20220524_0_L2A', 'properties': {'proj:epsg': 32610, 'proj:geometry': {'type': 'Polygon', 'coordinates': [[[636990.0, 4410550.0], [691590.0, 4410550.0], [691590.0, 4482600.0], [636990.0, 4482600.0], [636990.0, 4410550.0]]]}, 'proj:bbox': [636990.0, 4410550.0, 691590.0, 4482600.0], 'proj:shape': [7205, 5460], 'proj:transform': [10.0, 0.0, 636990.0, 0.0, -10.0, 4482600.0, 0.0, 0.0, 1.0], 'proj:projjson': {'$schema': 'https://proj.org/schemas/v0.4/projjson.schema.json', 'type': 'ProjectedCRS', 'name': 'WGS 84 / UTM zone 10N', 'base_crs': {'name': 'WGS 84', 'datum': {'type': 'GeodeticReferenceFrame', 'name': 'World Geodetic System 1984', 'ellipsoid': {'name': 'WGS 84', 'semi_major_axis': 6378137, 'inverse_flattening': 298.257223563}}, 'coordinate_system': {'subtype': 'ellipsoidal', 'axis': [{'name': 'Geodetic latitude', 'abbreviation': 'Lat', 'direction': 'north', 'unit': 'degree'}, {'name': 'Geodetic longitude', 'abbreviation': 'Lon', 'direction': 'east', 'unit': 'degree'}]}, 'id': {'authority': 'EPSG', 'code': 4326}}, 'conversion': {'name': 'UTM zone 10N', 'method': {'name': 'Transverse Mercator', 'id': {'authority': 'EPSG', 'code': 9807}}, 'parameters': [{'name': 'Latitude of natural origin', 'value': 0, 'unit': 'degree', 'id': {'authority': 'EPSG', 'code': 8801}}, {'name': 'Longitude of natural origin', 'value': -123, 'unit': 'degree', 'id': {'authority': 'EPSG', 'code': 8802}}, {'name': 'Scale factor at natural origin', 'value': 0.9996, 'unit': 'unity', 'id': {'authority': 'EPSG', 'code': 8805}}, {'name': 'False easting', 'value': 500000, 'unit': 'metre', 'id': {'authority': 'EPSG', 'code': 8806}}, {'name': 'False northing', 'value': 0, 'unit': 'metre', 'id': {'authority': 'EPSG', 'code': 8807}}]}, 'coordinate_system': {'subtype': 'Cartesian', 'axis': [{'name': 'Easting', 'abbreviation': '', 'direction': 'east', 'unit': 'metre'}, {'name': 'Northing', 'abbreviation': '', 'direction': 'north', 'unit': 'metre'}]}, 'id': {'authority': 'EPSG', 'code': 32610}}, 'datetime': '2022-05-24T19:03:29Z'}, 'geometry': {'type': 'Polygon', 'coordinates': [[[-121.39905410179915, 39.833916743259095], [-120.76135965075635, 39.82336095080461], [-120.73995321724426, 40.471999341669175], [-121.38373773482932, 40.482798837728375], [-121.39905410179915, 39.833916743259095]]]}, 'links': [{'rel': 'collection', 'href': 's3://results/c6f823a2-8c57-11ef-9c0f-0ac1619c2c37/c6f823a2-8c57-11ef-9c0f-0ac1619c2c37/collection.json', 'type': 'application/json', 'title': 'Processing results'}, {'rel': 'root', 'href': 's3://results/c6f823a2-8c57-11ef-9c0f-0ac1619c2c37/catalog.json', 'type': 'application/json'}, {'rel': 'self', 'href': 's3://results/c6f823a2-8c57-11ef-9c0f-0ac1619c2c37/c6f823a2-8c57-11ef-9c0f-0ac1619c2c37/S2A_10TFK_20220524_0_L2A/S2A_10TFK_20220524_0_L2A.json', 'type': 'application/json'}, {'rel': 'parent', 'href': 's3://results/c6f823a2-8c57-11ef-9c0f-0ac1619c2c37/c6f823a2-8c57-11ef-9c0f-0ac1619c2c37/collection.json', 'type': 'application/json', 'title': 'Processing results'}], 'assets': {'data': {'href': 's3://results/c6f823a2-8c57-11ef-9c0f-0ac1619c2c37/c6f823a2-8c57-11ef-9c0f-0ac1619c2c37/S2A_10TFK_20220524_0_L2A/otsu.tif', 'type': 'image/tiff; application=geotiff', 'storage:platform': 'eoap', 'storage:requester_pays': False, 'storage:tier': 'Standard', 'storage:region': 'us-east-1', 'storage:endpoint': 'http://eoap-zoo-project-localstack.eoap-zoo-project.svc.cluster.local:4566', 'roles': ['data', 'visual']}}, 'bbox': [-121.39905410179915, 39.82336095080461, -120.73995321724426, 40.482798837728375], 'stac_extensions': ['https://stac-extensions.github.io/projection/v1.1.0/schema.json'], 'collection': 'c6f823a2-8c57-11ef-9c0f-0ac1619c2c37'}], 'id': 'c6f823a2-8c57-11ef-9c0f-0ac1619c2c37'}}}\n"
     ]
    }
   ],
   "source": [
    "job_results = 'http://zoo-project-dru-service/alice' + '/ogc-api/jobs/' + jobid + \"/results\"\n",
    "\n",
    "headers = {\n",
    "    'accept': 'application/json',\n",
    "}\n",
    "response = requests.get(job_results, headers=headers)\n",
    "\n",
    "print(response.json())"
   ]
  },
  {
   "cell_type": "code",
   "execution_count": 11,
   "metadata": {},
   "outputs": [
    {
     "data": {
      "text/plain": [
       "{'stac_catalog': {'value': {'type': 'FeatureCollection',\n",
       "   'features': [{'type': 'Feature',\n",
       "     'stac_version': '1.0.0',\n",
       "     'id': 'S2B_10TFK_20210713_0_L2A',\n",
       "     'properties': {'proj:epsg': 32610,\n",
       "      'proj:geometry': {'type': 'Polygon',\n",
       "       'coordinates': [[[636990.0, 4410550.0],\n",
       "         [691590.0, 4410550.0],\n",
       "         [691590.0, 4482600.0],\n",
       "         [636990.0, 4482600.0],\n",
       "         [636990.0, 4410550.0]]]},\n",
       "      'proj:bbox': [636990.0, 4410550.0, 691590.0, 4482600.0],\n",
       "      'proj:shape': [7205, 5460],\n",
       "      'proj:transform': [10.0,\n",
       "       0.0,\n",
       "       636990.0,\n",
       "       0.0,\n",
       "       -10.0,\n",
       "       4482600.0,\n",
       "       0.0,\n",
       "       0.0,\n",
       "       1.0],\n",
       "      'proj:projjson': {'$schema': 'https://proj.org/schemas/v0.4/projjson.schema.json',\n",
       "       'type': 'ProjectedCRS',\n",
       "       'name': 'WGS 84 / UTM zone 10N',\n",
       "       'base_crs': {'name': 'WGS 84',\n",
       "        'datum': {'type': 'GeodeticReferenceFrame',\n",
       "         'name': 'World Geodetic System 1984',\n",
       "         'ellipsoid': {'name': 'WGS 84',\n",
       "          'semi_major_axis': 6378137,\n",
       "          'inverse_flattening': 298.257223563}},\n",
       "        'coordinate_system': {'subtype': 'ellipsoidal',\n",
       "         'axis': [{'name': 'Geodetic latitude',\n",
       "           'abbreviation': 'Lat',\n",
       "           'direction': 'north',\n",
       "           'unit': 'degree'},\n",
       "          {'name': 'Geodetic longitude',\n",
       "           'abbreviation': 'Lon',\n",
       "           'direction': 'east',\n",
       "           'unit': 'degree'}]},\n",
       "        'id': {'authority': 'EPSG', 'code': 4326}},\n",
       "       'conversion': {'name': 'UTM zone 10N',\n",
       "        'method': {'name': 'Transverse Mercator',\n",
       "         'id': {'authority': 'EPSG', 'code': 9807}},\n",
       "        'parameters': [{'name': 'Latitude of natural origin',\n",
       "          'value': 0,\n",
       "          'unit': 'degree',\n",
       "          'id': {'authority': 'EPSG', 'code': 8801}},\n",
       "         {'name': 'Longitude of natural origin',\n",
       "          'value': -123,\n",
       "          'unit': 'degree',\n",
       "          'id': {'authority': 'EPSG', 'code': 8802}},\n",
       "         {'name': 'Scale factor at natural origin',\n",
       "          'value': 0.9996,\n",
       "          'unit': 'unity',\n",
       "          'id': {'authority': 'EPSG', 'code': 8805}},\n",
       "         {'name': 'False easting',\n",
       "          'value': 500000,\n",
       "          'unit': 'metre',\n",
       "          'id': {'authority': 'EPSG', 'code': 8806}},\n",
       "         {'name': 'False northing',\n",
       "          'value': 0,\n",
       "          'unit': 'metre',\n",
       "          'id': {'authority': 'EPSG', 'code': 8807}}]},\n",
       "       'coordinate_system': {'subtype': 'Cartesian',\n",
       "        'axis': [{'name': 'Easting',\n",
       "          'abbreviation': '',\n",
       "          'direction': 'east',\n",
       "          'unit': 'metre'},\n",
       "         {'name': 'Northing',\n",
       "          'abbreviation': '',\n",
       "          'direction': 'north',\n",
       "          'unit': 'metre'}]},\n",
       "       'id': {'authority': 'EPSG', 'code': 32610}},\n",
       "      'datetime': '2021-07-13T19:03:24Z'},\n",
       "     'geometry': {'type': 'Polygon',\n",
       "      'coordinates': [[[-121.39905410179915, 39.833916743259095],\n",
       "        [-120.76135965075635, 39.82336095080461],\n",
       "        [-120.73995321724426, 40.471999341669175],\n",
       "        [-121.38373773482932, 40.482798837728375],\n",
       "        [-121.39905410179915, 39.833916743259095]]]},\n",
       "     'links': [{'rel': 'collection',\n",
       "       'href': 's3://results/c6f823a2-8c57-11ef-9c0f-0ac1619c2c37/c6f823a2-8c57-11ef-9c0f-0ac1619c2c37/collection.json',\n",
       "       'type': 'application/json',\n",
       "       'title': 'Processing results'},\n",
       "      {'rel': 'root',\n",
       "       'href': 's3://results/c6f823a2-8c57-11ef-9c0f-0ac1619c2c37/catalog.json',\n",
       "       'type': 'application/json'},\n",
       "      {'rel': 'self',\n",
       "       'href': 's3://results/c6f823a2-8c57-11ef-9c0f-0ac1619c2c37/c6f823a2-8c57-11ef-9c0f-0ac1619c2c37/S2B_10TFK_20210713_0_L2A/S2B_10TFK_20210713_0_L2A.json',\n",
       "       'type': 'application/json'},\n",
       "      {'rel': 'parent',\n",
       "       'href': 's3://results/c6f823a2-8c57-11ef-9c0f-0ac1619c2c37/c6f823a2-8c57-11ef-9c0f-0ac1619c2c37/collection.json',\n",
       "       'type': 'application/json',\n",
       "       'title': 'Processing results'}],\n",
       "     'assets': {'data': {'href': 's3://results/c6f823a2-8c57-11ef-9c0f-0ac1619c2c37/c6f823a2-8c57-11ef-9c0f-0ac1619c2c37/S2B_10TFK_20210713_0_L2A/otsu.tif',\n",
       "       'type': 'image/tiff; application=geotiff',\n",
       "       'storage:platform': 'eoap',\n",
       "       'storage:requester_pays': False,\n",
       "       'storage:tier': 'Standard',\n",
       "       'storage:region': 'us-east-1',\n",
       "       'storage:endpoint': 'http://eoap-zoo-project-localstack.eoap-zoo-project.svc.cluster.local:4566',\n",
       "       'roles': ['data', 'visual']}},\n",
       "     'bbox': [-121.39905410179915,\n",
       "      39.82336095080461,\n",
       "      -120.73995321724426,\n",
       "      40.482798837728375],\n",
       "     'stac_extensions': ['https://stac-extensions.github.io/projection/v1.1.0/schema.json'],\n",
       "     'collection': 'c6f823a2-8c57-11ef-9c0f-0ac1619c2c37'},\n",
       "    {'type': 'Feature',\n",
       "     'stac_version': '1.0.0',\n",
       "     'id': 'S2A_10TFK_20220524_0_L2A',\n",
       "     'properties': {'proj:epsg': 32610,\n",
       "      'proj:geometry': {'type': 'Polygon',\n",
       "       'coordinates': [[[636990.0, 4410550.0],\n",
       "         [691590.0, 4410550.0],\n",
       "         [691590.0, 4482600.0],\n",
       "         [636990.0, 4482600.0],\n",
       "         [636990.0, 4410550.0]]]},\n",
       "      'proj:bbox': [636990.0, 4410550.0, 691590.0, 4482600.0],\n",
       "      'proj:shape': [7205, 5460],\n",
       "      'proj:transform': [10.0,\n",
       "       0.0,\n",
       "       636990.0,\n",
       "       0.0,\n",
       "       -10.0,\n",
       "       4482600.0,\n",
       "       0.0,\n",
       "       0.0,\n",
       "       1.0],\n",
       "      'proj:projjson': {'$schema': 'https://proj.org/schemas/v0.4/projjson.schema.json',\n",
       "       'type': 'ProjectedCRS',\n",
       "       'name': 'WGS 84 / UTM zone 10N',\n",
       "       'base_crs': {'name': 'WGS 84',\n",
       "        'datum': {'type': 'GeodeticReferenceFrame',\n",
       "         'name': 'World Geodetic System 1984',\n",
       "         'ellipsoid': {'name': 'WGS 84',\n",
       "          'semi_major_axis': 6378137,\n",
       "          'inverse_flattening': 298.257223563}},\n",
       "        'coordinate_system': {'subtype': 'ellipsoidal',\n",
       "         'axis': [{'name': 'Geodetic latitude',\n",
       "           'abbreviation': 'Lat',\n",
       "           'direction': 'north',\n",
       "           'unit': 'degree'},\n",
       "          {'name': 'Geodetic longitude',\n",
       "           'abbreviation': 'Lon',\n",
       "           'direction': 'east',\n",
       "           'unit': 'degree'}]},\n",
       "        'id': {'authority': 'EPSG', 'code': 4326}},\n",
       "       'conversion': {'name': 'UTM zone 10N',\n",
       "        'method': {'name': 'Transverse Mercator',\n",
       "         'id': {'authority': 'EPSG', 'code': 9807}},\n",
       "        'parameters': [{'name': 'Latitude of natural origin',\n",
       "          'value': 0,\n",
       "          'unit': 'degree',\n",
       "          'id': {'authority': 'EPSG', 'code': 8801}},\n",
       "         {'name': 'Longitude of natural origin',\n",
       "          'value': -123,\n",
       "          'unit': 'degree',\n",
       "          'id': {'authority': 'EPSG', 'code': 8802}},\n",
       "         {'name': 'Scale factor at natural origin',\n",
       "          'value': 0.9996,\n",
       "          'unit': 'unity',\n",
       "          'id': {'authority': 'EPSG', 'code': 8805}},\n",
       "         {'name': 'False easting',\n",
       "          'value': 500000,\n",
       "          'unit': 'metre',\n",
       "          'id': {'authority': 'EPSG', 'code': 8806}},\n",
       "         {'name': 'False northing',\n",
       "          'value': 0,\n",
       "          'unit': 'metre',\n",
       "          'id': {'authority': 'EPSG', 'code': 8807}}]},\n",
       "       'coordinate_system': {'subtype': 'Cartesian',\n",
       "        'axis': [{'name': 'Easting',\n",
       "          'abbreviation': '',\n",
       "          'direction': 'east',\n",
       "          'unit': 'metre'},\n",
       "         {'name': 'Northing',\n",
       "          'abbreviation': '',\n",
       "          'direction': 'north',\n",
       "          'unit': 'metre'}]},\n",
       "       'id': {'authority': 'EPSG', 'code': 32610}},\n",
       "      'datetime': '2022-05-24T19:03:29Z'},\n",
       "     'geometry': {'type': 'Polygon',\n",
       "      'coordinates': [[[-121.39905410179915, 39.833916743259095],\n",
       "        [-120.76135965075635, 39.82336095080461],\n",
       "        [-120.73995321724426, 40.471999341669175],\n",
       "        [-121.38373773482932, 40.482798837728375],\n",
       "        [-121.39905410179915, 39.833916743259095]]]},\n",
       "     'links': [{'rel': 'collection',\n",
       "       'href': 's3://results/c6f823a2-8c57-11ef-9c0f-0ac1619c2c37/c6f823a2-8c57-11ef-9c0f-0ac1619c2c37/collection.json',\n",
       "       'type': 'application/json',\n",
       "       'title': 'Processing results'},\n",
       "      {'rel': 'root',\n",
       "       'href': 's3://results/c6f823a2-8c57-11ef-9c0f-0ac1619c2c37/catalog.json',\n",
       "       'type': 'application/json'},\n",
       "      {'rel': 'self',\n",
       "       'href': 's3://results/c6f823a2-8c57-11ef-9c0f-0ac1619c2c37/c6f823a2-8c57-11ef-9c0f-0ac1619c2c37/S2A_10TFK_20220524_0_L2A/S2A_10TFK_20220524_0_L2A.json',\n",
       "       'type': 'application/json'},\n",
       "      {'rel': 'parent',\n",
       "       'href': 's3://results/c6f823a2-8c57-11ef-9c0f-0ac1619c2c37/c6f823a2-8c57-11ef-9c0f-0ac1619c2c37/collection.json',\n",
       "       'type': 'application/json',\n",
       "       'title': 'Processing results'}],\n",
       "     'assets': {'data': {'href': 's3://results/c6f823a2-8c57-11ef-9c0f-0ac1619c2c37/c6f823a2-8c57-11ef-9c0f-0ac1619c2c37/S2A_10TFK_20220524_0_L2A/otsu.tif',\n",
       "       'type': 'image/tiff; application=geotiff',\n",
       "       'storage:platform': 'eoap',\n",
       "       'storage:requester_pays': False,\n",
       "       'storage:tier': 'Standard',\n",
       "       'storage:region': 'us-east-1',\n",
       "       'storage:endpoint': 'http://eoap-zoo-project-localstack.eoap-zoo-project.svc.cluster.local:4566',\n",
       "       'roles': ['data', 'visual']}},\n",
       "     'bbox': [-121.39905410179915,\n",
       "      39.82336095080461,\n",
       "      -120.73995321724426,\n",
       "      40.482798837728375],\n",
       "     'stac_extensions': ['https://stac-extensions.github.io/projection/v1.1.0/schema.json'],\n",
       "     'collection': 'c6f823a2-8c57-11ef-9c0f-0ac1619c2c37'}],\n",
       "   'id': 'c6f823a2-8c57-11ef-9c0f-0ac1619c2c37'}}}"
      ]
     },
     "execution_count": 11,
     "metadata": {},
     "output_type": "execute_result"
    }
   ],
   "source": [
    "response.json()"
   ]
  },
  {
   "cell_type": "code",
   "execution_count": 12,
   "metadata": {},
   "outputs": [
    {
     "data": {
      "text/plain": [
       "[<Item id=S2B_10TFK_20210713_0_L2A>, <Item id=S2A_10TFK_20220524_0_L2A>]"
      ]
     },
     "execution_count": 12,
     "metadata": {},
     "output_type": "execute_result"
    }
   ],
   "source": [
    "ItemCollection.from_dict(response.json()[\"stac_catalog\"][\"value\"]).items"
   ]
  },
  {
   "cell_type": "code",
   "execution_count": 13,
   "metadata": {},
   "outputs": [
    {
     "name": "stdout",
     "output_type": "stream",
     "text": [
      "{'data': <Asset href=s3://results/c6f823a2-8c57-11ef-9c0f-0ac1619c2c37/c6f823a2-8c57-11ef-9c0f-0ac1619c2c37/S2B_10TFK_20210713_0_L2A/otsu.tif>}\n",
      "{\n",
      "    \"href\": \"s3://results/c6f823a2-8c57-11ef-9c0f-0ac1619c2c37/c6f823a2-8c57-11ef-9c0f-0ac1619c2c37/S2B_10TFK_20210713_0_L2A/otsu.tif\",\n",
      "    \"roles\": [\n",
      "        \"data\",\n",
      "        \"visual\"\n",
      "    ],\n",
      "    \"storage:endpoint\": \"http://eoap-zoo-project-localstack.eoap-zoo-project.svc.cluster.local:4566\",\n",
      "    \"storage:platform\": \"eoap\",\n",
      "    \"storage:region\": \"us-east-1\",\n",
      "    \"storage:requester_pays\": false,\n",
      "    \"storage:tier\": \"Standard\",\n",
      "    \"type\": \"image/tiff; application=geotiff\"\n",
      "}\n",
      "{'data': <Asset href=s3://results/c6f823a2-8c57-11ef-9c0f-0ac1619c2c37/c6f823a2-8c57-11ef-9c0f-0ac1619c2c37/S2A_10TFK_20220524_0_L2A/otsu.tif>}\n",
      "{\n",
      "    \"href\": \"s3://results/c6f823a2-8c57-11ef-9c0f-0ac1619c2c37/c6f823a2-8c57-11ef-9c0f-0ac1619c2c37/S2A_10TFK_20220524_0_L2A/otsu.tif\",\n",
      "    \"roles\": [\n",
      "        \"data\",\n",
      "        \"visual\"\n",
      "    ],\n",
      "    \"storage:endpoint\": \"http://eoap-zoo-project-localstack.eoap-zoo-project.svc.cluster.local:4566\",\n",
      "    \"storage:platform\": \"eoap\",\n",
      "    \"storage:region\": \"us-east-1\",\n",
      "    \"storage:requester_pays\": false,\n",
      "    \"storage:tier\": \"Standard\",\n",
      "    \"type\": \"image/tiff; application=geotiff\"\n",
      "}\n"
     ]
    }
   ],
   "source": [
    "for item in ItemCollection.from_dict(response.json()[\"stac_catalog\"][\"value\"]).items:\n",
    "\n",
    "    print(item.get_assets())\n",
    "    print(json.dumps(item.get_assets()[\"data\"].to_dict(), sort_keys=True, indent=4))"
   ]
  },
  {
   "cell_type": "code",
   "execution_count": 14,
   "metadata": {},
   "outputs": [],
   "source": [
    "col = ItemCollection.from_dict(response.json()[\"stac_catalog\"][\"value\"])"
   ]
  },
  {
   "cell_type": "code",
   "execution_count": 130,
   "metadata": {},
   "outputs": [
    {
     "data": {
      "text/plain": [
       "[<Link rel=collection target=s3://results/9227b784-8bc9-11ef-af02-0ac1619c2c37/9227b784-8bc9-11ef-af02-0ac1619c2c37/collection.json>,\n",
       " <Link rel=root target=s3://results/9227b784-8bc9-11ef-af02-0ac1619c2c37/catalog.json>,\n",
       " <Link rel=self target=s3://results/9227b784-8bc9-11ef-af02-0ac1619c2c37/9227b784-8bc9-11ef-af02-0ac1619c2c37/S2B_10TFK_20210713_0_L2A/S2B_10TFK_20210713_0_L2A.json>,\n",
       " <Link rel=parent target=s3://results/9227b784-8bc9-11ef-af02-0ac1619c2c37/9227b784-8bc9-11ef-af02-0ac1619c2c37/collection.json>]"
      ]
     },
     "execution_count": 130,
     "metadata": {},
     "output_type": "execute_result"
    }
   ],
   "source": [
    "col.items[0].links"
   ]
  },
  {
   "cell_type": "code",
   "execution_count": 12,
   "metadata": {},
   "outputs": [
    {
     "data": {
      "text/plain": [
       "{'id': 'water_bodies',\n",
       " 'title': 'Water bodies detection based on NDWI and otsu threshold',\n",
       " 'description': 'Water bodies detection based on NDWI and otsu threshold',\n",
       " 'mutable': True,\n",
       " 'version': '1.4.1',\n",
       " 'metadata': [{'role': 'https://schema.org/softwareVersion',\n",
       "   'value': '1.4.1'}],\n",
       " 'outputTransmission': ['value', 'reference'],\n",
       " 'jobControlOptions': ['async-execute', 'dismiss'],\n",
       " 'links': [{'rel': 'http://www.opengis.net/def/rel/ogc/1.0/execute',\n",
       "   'type': 'application/json',\n",
       "   'title': 'Execute End Point',\n",
       "   'href': 'http://localhost:8080/alice/ogc-api/processes/water_bodies/execution'}],\n",
       " 'inputs': {'aoi': {'title': 'area of interest',\n",
       "   'description': 'area of interest as a bounding box',\n",
       "   'schema': {'type': 'string'}},\n",
       "  'bands': {'title': 'bands used for the NDWI',\n",
       "   'description': 'bands used for the NDWI',\n",
       "   'schema': {'type': 'string', 'default': \"['green', 'nir']\"}},\n",
       "  'epsg': {'title': 'EPSG code',\n",
       "   'description': 'EPSG code',\n",
       "   'schema': {'type': 'string', 'default': 'EPSG:4326', 'nullable': True}},\n",
       "  'stac_items': {'title': 'Sentinel-2 STAC items',\n",
       "   'description': 'list of Sentinel-2 COG STAC items',\n",
       "   'schema': {'type': 'string'}}},\n",
       " 'outputs': {'stac_catalog': {'title': 'stac_catalog',\n",
       "   'description': 'None',\n",
       "   'extended-schema': {'oneOf': [{'allOf': [{'$ref': 'http://zoo-project.org/dl/link.json'},\n",
       "       {'type': 'object',\n",
       "        'properties': {'type': {'enum': ['application/json']}}}]},\n",
       "     {'type': 'object',\n",
       "      'required': ['value'],\n",
       "      'properties': {'value': {'oneOf': [{'type': 'object'}]}}}]},\n",
       "   'schema': {'oneOf': [{'type': 'object'}]}}}}"
      ]
     },
     "execution_count": 12,
     "metadata": {},
     "output_type": "execute_result"
    }
   ],
   "source": []
  },
  {
   "cell_type": "code",
   "execution_count": null,
   "metadata": {
    "vscode": {
     "languageId": "shellscript"
    }
   },
   "outputs": [],
   "source": []
  }
 ],
 "metadata": {
  "kernelspec": {
   "display_name": "Python (ZOO-Project)",
   "language": "python",
   "name": "zoo_env"
  },
  "language_info": {
   "codemirror_mode": {
    "name": "ipython",
    "version": 3
   },
   "file_extension": ".py",
   "mimetype": "text/x-python",
   "name": "python",
   "nbconvert_exporter": "python",
   "pygments_lexer": "ipython3",
   "version": "3.9.19"
  }
 },
 "nbformat": 4,
 "nbformat_minor": 2
}
