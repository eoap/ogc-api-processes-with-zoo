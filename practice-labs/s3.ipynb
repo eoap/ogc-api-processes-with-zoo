{
 "cells": [
  {
   "cell_type": "code",
   "execution_count": 8,
   "metadata": {},
   "outputs": [],
   "source": [
    "import pystac\n",
    "from pystac.stac_io import DefaultStacIO, StacIO\n",
    "import botocore\n",
    "import boto3\n",
    "from urllib.parse import urlparse\n"
   ]
  },
  {
   "cell_type": "code",
   "execution_count": 14,
   "metadata": {},
   "outputs": [],
   "source": [
    "class CustomStacIO(DefaultStacIO):\n",
    "    \"\"\"Custom STAC IO class that uses boto3 to read from S3.\"\"\"\n",
    "\n",
    "    def __init__(self):\n",
    "        self.session = botocore.session.Session()\n",
    "        self.s3_client = self.session.create_client(\n",
    "            service_name=\"s3\",\n",
    "            region_name=\"us-east-1\",\n",
    "            endpoint_url=\"http://eoap-zoo-project-localstack.eoap-zoo-project.svc.cluster.local:4566\",\n",
    "            aws_access_key_id=\"test\",\n",
    "            aws_secret_access_key=\"test\",\n",
    "            #verify=True,\n",
    "            #use_ssl=True,\n",
    "            #config=Config(s3={\"addressing_style\": \"path\", \"signature_version\": \"s3v4\"}),\n",
    "        )\n",
    "\n",
    "    def read_text(self, source, *args, **kwargs):\n",
    "        parsed = urlparse(source)\n",
    "        if parsed.scheme == \"s3\":\n",
    "            return (\n",
    "                self.s3_client.get_object(Bucket=parsed.netloc, Key=parsed.path[1:])[\n",
    "                    \"Body\"\n",
    "                ]\n",
    "                .read()\n",
    "                .decode(\"utf-8\")\n",
    "            )\n",
    "        else:\n",
    "            return super().read_text(source, *args, **kwargs)\n",
    "\n",
    "    def write_text(self, dest, txt, *args, **kwargs):\n",
    "        parsed = urlparse(dest)\n",
    "        if parsed.scheme == \"s3\":\n",
    "            self.s3_client.put_object(\n",
    "                Body=txt.encode(\"UTF-8\"),\n",
    "                Bucket=parsed.netloc,\n",
    "                Key=parsed.path[1:],\n",
    "                ContentType=\"application/geo+json\",\n",
    "            )\n",
    "        else:\n",
    "            super().write_text(dest, txt, *args, **kwargs)\n",
    "\n",
    "StacIO.set_default(CustomStacIO)"
   ]
  },
  {
   "cell_type": "code",
   "execution_count": 61,
   "metadata": {},
   "outputs": [
    {
     "name": "stderr",
     "output_type": "stream",
     "text": [
      "\u001b[32m2024-10-16 12:56:18.198\u001b[0m | \u001b[1mINFO    \u001b[0m | \u001b[36m__main__\u001b[0m:\u001b[36m<module>\u001b[0m:\u001b[36m5\u001b[0m - \u001b[1mCreate collection with ID sub_path\u001b[0m\n",
      "\u001b[32m2024-10-16 12:56:18.208\u001b[0m | \u001b[1mINFO    \u001b[0m | \u001b[36m__main__\u001b[0m:\u001b[36m<module>\u001b[0m:\u001b[36m11\u001b[0m - \u001b[1mGot collection from outputs\u001b[0m\n",
      "\u001b[32m2024-10-16 12:56:18.216\u001b[0m | \u001b[1mINFO    \u001b[0m | \u001b[36m__main__\u001b[0m:\u001b[36m<module>\u001b[0m:\u001b[36m18\u001b[0m - \u001b[1mProcessing item {item.id}\u001b[0m\n",
      "\u001b[32m2024-10-16 12:56:18.218\u001b[0m | \u001b[1mINFO    \u001b[0m | \u001b[36m__main__\u001b[0m:\u001b[36m<module>\u001b[0m:\u001b[36m21\u001b[0m - \u001b[1mProcessing asset data\u001b[0m\n",
      "\u001b[32m2024-10-16 12:56:18.227\u001b[0m | \u001b[1mINFO    \u001b[0m | \u001b[36m__main__\u001b[0m:\u001b[36m<module>\u001b[0m:\u001b[36m18\u001b[0m - \u001b[1mProcessing item {item.id}\u001b[0m\n",
      "\u001b[32m2024-10-16 12:56:18.229\u001b[0m | \u001b[1mINFO    \u001b[0m | \u001b[36m__main__\u001b[0m:\u001b[36m<module>\u001b[0m:\u001b[36m21\u001b[0m - \u001b[1mProcessing asset data\u001b[0m\n",
      "\u001b[32m2024-10-16 12:56:18.231\u001b[0m | \u001b[1mINFO    \u001b[0m | \u001b[36m__main__\u001b[0m:\u001b[36m<module>\u001b[0m:\u001b[36m36\u001b[0m - \u001b[1mCreated collection from items\u001b[0m\n"
     ]
    }
   ],
   "source": [
    "cat = pystac.read_file(\"s3://results/90f980c6-8bac-11ef-ae11-0ac1619c2c37/catalog.json\")\n",
    "\n",
    "collection_id = \"sub_path\"\n",
    "\n",
    "logger.info(f\"Create collection with ID {collection_id}\")\n",
    "\n",
    "collection = None\n",
    "\n",
    "collection = next(cat.get_all_collections())\n",
    "\n",
    "logger.info(\"Got collection from outputs\")\n",
    "\n",
    "        \n",
    "items = []\n",
    "\n",
    "for item in collection.get_all_items():\n",
    "\n",
    "    logger.info(\"Processing item {item.id}\")\n",
    "    \n",
    "    for asset_key in item.assets.keys():\n",
    "        logger.info(f\"Processing asset {asset_key}\")\n",
    "        temp_asset = item.assets[asset_key].to_dict()\n",
    "        temp_asset[\"storage:platform\"] = \"EOEPCA\"\n",
    "        temp_asset[\"storage:requester_pays\"] = False\n",
    "        temp_asset[\"storage:tier\"] = \"Standard\"\n",
    "        temp_asset[\"storage:region\"] = \"region_name\"\n",
    "        temp_asset[\"storage:endpoint\"] = \"endpoint_url\"\n",
    "        item.assets[asset_key] = item.assets[asset_key].from_dict(temp_asset)\n",
    "    \n",
    "    item.collection_id = collection_id\n",
    "\n",
    "    items.append(item.clone())\n",
    "\n",
    "item_collection = ItemCollection(items=items)\n",
    "\n",
    "logger.info(\"Created collection from items\")\n",
    "\n",
    "# Trap the case of no output collection\n",
    "if item_collection is None:\n",
    "    logger.error(\"The output collection is empty\")\n",
    "    feature_collection = json.dumps({}, indent=2)\n",
    "\n",
    "# Set the feature collection to be returned\n",
    "results = item_collection.to_dict()\n",
    "results[\"id\"] = collection_id"
   ]
  },
  {
   "cell_type": "code",
   "execution_count": 71,
   "metadata": {},
   "outputs": [
    {
     "data": {
      "text/plain": [
       "'90f980c6-8bac-11ef-ae11-0ac1619c2c37'"
      ]
     },
     "execution_count": 71,
     "metadata": {},
     "output_type": "execute_result"
    }
   ],
   "source": [
    "collection.id"
   ]
  },
  {
   "cell_type": "code",
   "execution_count": 62,
   "metadata": {},
   "outputs": [
    {
     "data": {
      "text/plain": [
       "{'type': 'FeatureCollection',\n",
       " 'features': [{'type': 'Feature',\n",
       "   'stac_version': '1.0.0',\n",
       "   'id': 'S2B_10TFK_20210713_0_L2A',\n",
       "   'properties': {'proj:epsg': 32610,\n",
       "    'proj:geometry': {'type': 'Polygon',\n",
       "     'coordinates': [[[636990.0, 4410550.0],\n",
       "       [691590.0, 4410550.0],\n",
       "       [691590.0, 4482600.0],\n",
       "       [636990.0, 4482600.0],\n",
       "       [636990.0, 4410550.0]]]},\n",
       "    'proj:bbox': [636990.0, 4410550.0, 691590.0, 4482600.0],\n",
       "    'proj:shape': [7205, 5460],\n",
       "    'proj:transform': [10.0,\n",
       "     0.0,\n",
       "     636990.0,\n",
       "     0.0,\n",
       "     -10.0,\n",
       "     4482600.0,\n",
       "     0.0,\n",
       "     0.0,\n",
       "     1.0],\n",
       "    'proj:projjson': {'$schema': 'https://proj.org/schemas/v0.4/projjson.schema.json',\n",
       "     'type': 'ProjectedCRS',\n",
       "     'name': 'WGS 84 / UTM zone 10N',\n",
       "     'base_crs': {'name': 'WGS 84',\n",
       "      'datum': {'type': 'GeodeticReferenceFrame',\n",
       "       'name': 'World Geodetic System 1984',\n",
       "       'ellipsoid': {'name': 'WGS 84',\n",
       "        'semi_major_axis': 6378137,\n",
       "        'inverse_flattening': 298.257223563}},\n",
       "      'coordinate_system': {'subtype': 'ellipsoidal',\n",
       "       'axis': [{'name': 'Geodetic latitude',\n",
       "         'abbreviation': 'Lat',\n",
       "         'direction': 'north',\n",
       "         'unit': 'degree'},\n",
       "        {'name': 'Geodetic longitude',\n",
       "         'abbreviation': 'Lon',\n",
       "         'direction': 'east',\n",
       "         'unit': 'degree'}]},\n",
       "      'id': {'authority': 'EPSG', 'code': 4326}},\n",
       "     'conversion': {'name': 'UTM zone 10N',\n",
       "      'method': {'name': 'Transverse Mercator',\n",
       "       'id': {'authority': 'EPSG', 'code': 9807}},\n",
       "      'parameters': [{'name': 'Latitude of natural origin',\n",
       "        'value': 0,\n",
       "        'unit': 'degree',\n",
       "        'id': {'authority': 'EPSG', 'code': 8801}},\n",
       "       {'name': 'Longitude of natural origin',\n",
       "        'value': -123,\n",
       "        'unit': 'degree',\n",
       "        'id': {'authority': 'EPSG', 'code': 8802}},\n",
       "       {'name': 'Scale factor at natural origin',\n",
       "        'value': 0.9996,\n",
       "        'unit': 'unity',\n",
       "        'id': {'authority': 'EPSG', 'code': 8805}},\n",
       "       {'name': 'False easting',\n",
       "        'value': 500000,\n",
       "        'unit': 'metre',\n",
       "        'id': {'authority': 'EPSG', 'code': 8806}},\n",
       "       {'name': 'False northing',\n",
       "        'value': 0,\n",
       "        'unit': 'metre',\n",
       "        'id': {'authority': 'EPSG', 'code': 8807}}]},\n",
       "     'coordinate_system': {'subtype': 'Cartesian',\n",
       "      'axis': [{'name': 'Easting',\n",
       "        'abbreviation': '',\n",
       "        'direction': 'east',\n",
       "        'unit': 'metre'},\n",
       "       {'name': 'Northing',\n",
       "        'abbreviation': '',\n",
       "        'direction': 'north',\n",
       "        'unit': 'metre'}]},\n",
       "     'id': {'authority': 'EPSG', 'code': 32610}},\n",
       "    'datetime': '2021-07-13T19:03:24Z'},\n",
       "   'geometry': {'type': 'Polygon',\n",
       "    'coordinates': [[[-121.39905410179915, 39.833916743259095],\n",
       "      [-120.76135965075635, 39.82336095080461],\n",
       "      [-120.73995321724426, 40.471999341669175],\n",
       "      [-121.38373773482932, 40.482798837728375],\n",
       "      [-121.39905410179915, 39.833916743259095]]]},\n",
       "   'links': [{'rel': 'collection',\n",
       "     'href': 's3://results/90f980c6-8bac-11ef-ae11-0ac1619c2c37/90f980c6-8bac-11ef-ae11-0ac1619c2c37/collection.json',\n",
       "     'type': 'application/json',\n",
       "     'title': 'Processing results'},\n",
       "    {'rel': 'root',\n",
       "     'href': 's3://results/90f980c6-8bac-11ef-ae11-0ac1619c2c37/catalog.json',\n",
       "     'type': 'application/json'},\n",
       "    {'rel': 'self',\n",
       "     'href': 's3://results/90f980c6-8bac-11ef-ae11-0ac1619c2c37/90f980c6-8bac-11ef-ae11-0ac1619c2c37/S2B_10TFK_20210713_0_L2A/S2B_10TFK_20210713_0_L2A.json',\n",
       "     'type': 'application/json'},\n",
       "    {'rel': 'parent',\n",
       "     'href': 's3://results/90f980c6-8bac-11ef-ae11-0ac1619c2c37/90f980c6-8bac-11ef-ae11-0ac1619c2c37/collection.json',\n",
       "     'type': 'application/json',\n",
       "     'title': 'Processing results'}],\n",
       "   'assets': {'data': {'href': 's3://results/90f980c6-8bac-11ef-ae11-0ac1619c2c37/90f980c6-8bac-11ef-ae11-0ac1619c2c37/S2B_10TFK_20210713_0_L2A/otsu.tif',\n",
       "     'type': 'image/tiff; application=geotiff',\n",
       "     'storage:platform': 'EOEPCA',\n",
       "     'storage:requester_pays': False,\n",
       "     'storage:tier': 'Standard',\n",
       "     'storage:region': 'region_name',\n",
       "     'storage:endpoint': 'endpoint_url',\n",
       "     'roles': ['data', 'visual']}},\n",
       "   'bbox': [-121.39905410179915,\n",
       "    39.82336095080461,\n",
       "    -120.73995321724426,\n",
       "    40.482798837728375],\n",
       "   'stac_extensions': ['https://stac-extensions.github.io/projection/v1.1.0/schema.json'],\n",
       "   'collection': 'sub_path'},\n",
       "  {'type': 'Feature',\n",
       "   'stac_version': '1.0.0',\n",
       "   'id': 'S2A_10TFK_20220524_0_L2A',\n",
       "   'properties': {'proj:epsg': 32610,\n",
       "    'proj:geometry': {'type': 'Polygon',\n",
       "     'coordinates': [[[636990.0, 4410550.0],\n",
       "       [691590.0, 4410550.0],\n",
       "       [691590.0, 4482600.0],\n",
       "       [636990.0, 4482600.0],\n",
       "       [636990.0, 4410550.0]]]},\n",
       "    'proj:bbox': [636990.0, 4410550.0, 691590.0, 4482600.0],\n",
       "    'proj:shape': [7205, 5460],\n",
       "    'proj:transform': [10.0,\n",
       "     0.0,\n",
       "     636990.0,\n",
       "     0.0,\n",
       "     -10.0,\n",
       "     4482600.0,\n",
       "     0.0,\n",
       "     0.0,\n",
       "     1.0],\n",
       "    'proj:projjson': {'$schema': 'https://proj.org/schemas/v0.4/projjson.schema.json',\n",
       "     'type': 'ProjectedCRS',\n",
       "     'name': 'WGS 84 / UTM zone 10N',\n",
       "     'base_crs': {'name': 'WGS 84',\n",
       "      'datum': {'type': 'GeodeticReferenceFrame',\n",
       "       'name': 'World Geodetic System 1984',\n",
       "       'ellipsoid': {'name': 'WGS 84',\n",
       "        'semi_major_axis': 6378137,\n",
       "        'inverse_flattening': 298.257223563}},\n",
       "      'coordinate_system': {'subtype': 'ellipsoidal',\n",
       "       'axis': [{'name': 'Geodetic latitude',\n",
       "         'abbreviation': 'Lat',\n",
       "         'direction': 'north',\n",
       "         'unit': 'degree'},\n",
       "        {'name': 'Geodetic longitude',\n",
       "         'abbreviation': 'Lon',\n",
       "         'direction': 'east',\n",
       "         'unit': 'degree'}]},\n",
       "      'id': {'authority': 'EPSG', 'code': 4326}},\n",
       "     'conversion': {'name': 'UTM zone 10N',\n",
       "      'method': {'name': 'Transverse Mercator',\n",
       "       'id': {'authority': 'EPSG', 'code': 9807}},\n",
       "      'parameters': [{'name': 'Latitude of natural origin',\n",
       "        'value': 0,\n",
       "        'unit': 'degree',\n",
       "        'id': {'authority': 'EPSG', 'code': 8801}},\n",
       "       {'name': 'Longitude of natural origin',\n",
       "        'value': -123,\n",
       "        'unit': 'degree',\n",
       "        'id': {'authority': 'EPSG', 'code': 8802}},\n",
       "       {'name': 'Scale factor at natural origin',\n",
       "        'value': 0.9996,\n",
       "        'unit': 'unity',\n",
       "        'id': {'authority': 'EPSG', 'code': 8805}},\n",
       "       {'name': 'False easting',\n",
       "        'value': 500000,\n",
       "        'unit': 'metre',\n",
       "        'id': {'authority': 'EPSG', 'code': 8806}},\n",
       "       {'name': 'False northing',\n",
       "        'value': 0,\n",
       "        'unit': 'metre',\n",
       "        'id': {'authority': 'EPSG', 'code': 8807}}]},\n",
       "     'coordinate_system': {'subtype': 'Cartesian',\n",
       "      'axis': [{'name': 'Easting',\n",
       "        'abbreviation': '',\n",
       "        'direction': 'east',\n",
       "        'unit': 'metre'},\n",
       "       {'name': 'Northing',\n",
       "        'abbreviation': '',\n",
       "        'direction': 'north',\n",
       "        'unit': 'metre'}]},\n",
       "     'id': {'authority': 'EPSG', 'code': 32610}},\n",
       "    'datetime': '2022-05-24T19:03:29Z'},\n",
       "   'geometry': {'type': 'Polygon',\n",
       "    'coordinates': [[[-121.39905410179915, 39.833916743259095],\n",
       "      [-120.76135965075635, 39.82336095080461],\n",
       "      [-120.73995321724426, 40.471999341669175],\n",
       "      [-121.38373773482932, 40.482798837728375],\n",
       "      [-121.39905410179915, 39.833916743259095]]]},\n",
       "   'links': [{'rel': 'collection',\n",
       "     'href': 's3://results/90f980c6-8bac-11ef-ae11-0ac1619c2c37/90f980c6-8bac-11ef-ae11-0ac1619c2c37/collection.json',\n",
       "     'type': 'application/json',\n",
       "     'title': 'Processing results'},\n",
       "    {'rel': 'root',\n",
       "     'href': 's3://results/90f980c6-8bac-11ef-ae11-0ac1619c2c37/catalog.json',\n",
       "     'type': 'application/json'},\n",
       "    {'rel': 'self',\n",
       "     'href': 's3://results/90f980c6-8bac-11ef-ae11-0ac1619c2c37/90f980c6-8bac-11ef-ae11-0ac1619c2c37/S2A_10TFK_20220524_0_L2A/S2A_10TFK_20220524_0_L2A.json',\n",
       "     'type': 'application/json'},\n",
       "    {'rel': 'parent',\n",
       "     'href': 's3://results/90f980c6-8bac-11ef-ae11-0ac1619c2c37/90f980c6-8bac-11ef-ae11-0ac1619c2c37/collection.json',\n",
       "     'type': 'application/json',\n",
       "     'title': 'Processing results'}],\n",
       "   'assets': {'data': {'href': 's3://results/90f980c6-8bac-11ef-ae11-0ac1619c2c37/90f980c6-8bac-11ef-ae11-0ac1619c2c37/S2A_10TFK_20220524_0_L2A/otsu.tif',\n",
       "     'type': 'image/tiff; application=geotiff',\n",
       "     'storage:platform': 'EOEPCA',\n",
       "     'storage:requester_pays': False,\n",
       "     'storage:tier': 'Standard',\n",
       "     'storage:region': 'region_name',\n",
       "     'storage:endpoint': 'endpoint_url',\n",
       "     'roles': ['data', 'visual']}},\n",
       "   'bbox': [-121.39905410179915,\n",
       "    39.82336095080461,\n",
       "    -120.73995321724426,\n",
       "    40.482798837728375],\n",
       "   'stac_extensions': ['https://stac-extensions.github.io/projection/v1.1.0/schema.json'],\n",
       "   'collection': 'sub_path'}],\n",
       " 'id': 'sub_path'}"
      ]
     },
     "execution_count": 62,
     "metadata": {},
     "output_type": "execute_result"
    }
   ],
   "source": [
    "results"
   ]
  },
  {
   "cell_type": "code",
   "execution_count": 68,
   "metadata": {},
   "outputs": [
    {
     "data": {
      "text/plain": [
       "['__abstractmethods__',\n",
       " '__add__',\n",
       " '__annotations__',\n",
       " '__class__',\n",
       " '__class_getitem__',\n",
       " '__contains__',\n",
       " '__delattr__',\n",
       " '__dict__',\n",
       " '__dir__',\n",
       " '__doc__',\n",
       " '__eq__',\n",
       " '__format__',\n",
       " '__ge__',\n",
       " '__getattribute__',\n",
       " '__getitem__',\n",
       " '__gt__',\n",
       " '__hash__',\n",
       " '__init__',\n",
       " '__init_subclass__',\n",
       " '__iter__',\n",
       " '__le__',\n",
       " '__len__',\n",
       " '__lt__',\n",
       " '__module__',\n",
       " '__ne__',\n",
       " '__new__',\n",
       " '__orig_bases__',\n",
       " '__reduce__',\n",
       " '__reduce_ex__',\n",
       " '__repr__',\n",
       " '__setattr__',\n",
       " '__sizeof__',\n",
       " '__slots__',\n",
       " '__str__',\n",
       " '__subclasshook__',\n",
       " '__weakref__',\n",
       " '_abc_impl',\n",
       " '_repr_html_',\n",
       " 'clone',\n",
       " 'extra_fields',\n",
       " 'from_dict',\n",
       " 'from_file',\n",
       " 'is_item_collection',\n",
       " 'items',\n",
       " 'save_object',\n",
       " 'to_dict']"
      ]
     },
     "execution_count": 68,
     "metadata": {},
     "output_type": "execute_result"
    }
   ],
   "source": [
    "\n",
    "dir(ItemCollection.from_dict(results))"
   ]
  },
  {
   "cell_type": "code",
   "execution_count": 70,
   "metadata": {},
   "outputs": [
    {
     "data": {
      "text/plain": [
       "{'data': <Asset href=s3://results/90f980c6-8bac-11ef-ae11-0ac1619c2c37/90f980c6-8bac-11ef-ae11-0ac1619c2c37/S2B_10TFK_20210713_0_L2A/otsu.tif>}"
      ]
     },
     "execution_count": 70,
     "metadata": {},
     "output_type": "execute_result"
    }
   ],
   "source": [
    "ItemCollection.from_dict(results).items[0].get_assets()"
   ]
  },
  {
   "cell_type": "code",
   "execution_count": 46,
   "metadata": {},
   "outputs": [],
   "source": [
    "cat = pystac.read_file(\"s3://results/90f980c6-8bac-11ef-ae11-0ac1619c2c37/catalog.json\")"
   ]
  },
  {
   "cell_type": "code",
   "execution_count": 47,
   "metadata": {},
   "outputs": [
    {
     "name": "stdout",
     "output_type": "stream",
     "text": [
      "* <Catalog id=catalog>\n",
      "    * <Collection id=90f980c6-8bac-11ef-ae11-0ac1619c2c37>\n",
      "      * <Item id=S2B_10TFK_20210713_0_L2A>\n",
      "      * <Item id=S2A_10TFK_20220524_0_L2A>\n"
     ]
    }
   ],
   "source": [
    "cat.describe()"
   ]
  },
  {
   "cell_type": "code",
   "execution_count": 48,
   "metadata": {},
   "outputs": [],
   "source": [
    "collection = next(cat.get_all_collections())"
   ]
  },
  {
   "cell_type": "code",
   "execution_count": 49,
   "metadata": {},
   "outputs": [
    {
     "data": {
      "text/html": [
       "&lt;Collection id=90f980c6-8bac-11ef-ae11-0ac1619c2c37&gt;"
      ],
      "text/plain": [
       "<Collection id=90f980c6-8bac-11ef-ae11-0ac1619c2c37>"
      ]
     },
     "execution_count": 49,
     "metadata": {},
     "output_type": "execute_result"
    }
   ],
   "source": [
    "collection"
   ]
  },
  {
   "cell_type": "code",
   "execution_count": 51,
   "metadata": {},
   "outputs": [
    {
     "name": "stdout",
     "output_type": "stream",
     "text": [
      "* <Collection id=90f980c6-8bac-11ef-ae11-0ac1619c2c37>\n",
      "  * <Item id=S2B_10TFK_20210713_0_L2A>\n",
      "  * <Item id=S2A_10TFK_20220524_0_L2A>\n"
     ]
    }
   ],
   "source": [
    "collection.describe()"
   ]
  },
  {
   "cell_type": "code",
   "execution_count": 40,
   "metadata": {},
   "outputs": [
    {
     "data": {
      "text/html": [
       "&lt;Item id=S2B_10TFK_20210713_0_L2A&gt;"
      ],
      "text/plain": [
       "<Item id=S2B_10TFK_20210713_0_L2A>"
      ]
     },
     "execution_count": 40,
     "metadata": {},
     "output_type": "execute_result"
    }
   ],
   "source": [
    "next(collection.get_all_items())"
   ]
  },
  {
   "cell_type": "code",
   "execution_count": 52,
   "metadata": {},
   "outputs": [],
   "source": [
    "items = collection.get_all_items()"
   ]
  },
  {
   "cell_type": "code",
   "execution_count": 53,
   "metadata": {},
   "outputs": [
    {
     "data": {
      "text/plain": [
       "<itertools.chain at 0x73befdc29430>"
      ]
     },
     "execution_count": 53,
     "metadata": {},
     "output_type": "execute_result"
    }
   ],
   "source": [
    "items"
   ]
  },
  {
   "cell_type": "code",
   "execution_count": 42,
   "metadata": {},
   "outputs": [],
   "source": [
    "\n"
   ]
  },
  {
   "cell_type": "code",
   "execution_count": 54,
   "metadata": {},
   "outputs": [
    {
     "name": "stderr",
     "output_type": "stream",
     "text": [
      "\u001b[32m2024-10-16 12:47:43.130\u001b[0m | \u001b[1mINFO    \u001b[0m | \u001b[36m__main__\u001b[0m:\u001b[36m<module>\u001b[0m:\u001b[36m4\u001b[0m - \u001b[1mProcessing item S2B_10TFK_20210713_0_L2A\u001b[0m\n",
      "\u001b[32m2024-10-16 12:47:43.131\u001b[0m | \u001b[1mINFO    \u001b[0m | \u001b[36m__main__\u001b[0m:\u001b[36m<module>\u001b[0m:\u001b[36m6\u001b[0m - \u001b[1mProcessing asset data\u001b[0m\n",
      "\u001b[32m2024-10-16 12:47:43.132\u001b[0m | \u001b[1mINFO    \u001b[0m | \u001b[36m__main__\u001b[0m:\u001b[36m<module>\u001b[0m:\u001b[36m4\u001b[0m - \u001b[1mProcessing item S2A_10TFK_20220524_0_L2A\u001b[0m\n",
      "\u001b[32m2024-10-16 12:47:43.133\u001b[0m | \u001b[1mINFO    \u001b[0m | \u001b[36m__main__\u001b[0m:\u001b[36m<module>\u001b[0m:\u001b[36m6\u001b[0m - \u001b[1mProcessing asset data\u001b[0m\n"
     ]
    }
   ],
   "source": [
    "\n",
    "collection_id = \"ccc\"\n",
    "itemFinal = []\n",
    "for i in items:\n",
    "    logger.info(f\"Processing item {i.id}\")\n",
    "    for a in i.assets.keys():\n",
    "        logger.info(f\"Processing asset {a}\")\n",
    "        cDict = i.assets[a].to_dict()\n",
    "        cDict[\"storage:platform\"] = \"EOEPCA\"\n",
    "        cDict[\"storage:requester_pays\"] = False\n",
    "        cDict[\"storage:tier\"] = \"Standard\"\n",
    "        cDict[\"storage:region\"] = \"aaa\"\n",
    "        cDict[\"storage:endpoint\"] = \"bb\"\n",
    "        i.assets[a] = i.assets[a].from_dict(cDict)\n",
    "    i.collection_id = collection_id\n",
    "    itemFinal += [i.clone()]\n",
    "colln = ItemCollection(items=itemFinal)"
   ]
  },
  {
   "cell_type": "code",
   "execution_count": 45,
   "metadata": {},
   "outputs": [
    {
     "data": {
      "text/plain": [
       "{'type': 'FeatureCollection',\n",
       " 'features': [{'type': 'Feature',\n",
       "   'stac_version': '1.0.0',\n",
       "   'id': 'S2A_10TFK_20220524_0_L2A',\n",
       "   'properties': {'proj:epsg': 32610,\n",
       "    'proj:geometry': {'type': 'Polygon',\n",
       "     'coordinates': [[[636990.0, 4410550.0],\n",
       "       [691590.0, 4410550.0],\n",
       "       [691590.0, 4482600.0],\n",
       "       [636990.0, 4482600.0],\n",
       "       [636990.0, 4410550.0]]]},\n",
       "    'proj:bbox': [636990.0, 4410550.0, 691590.0, 4482600.0],\n",
       "    'proj:shape': [7205, 5460],\n",
       "    'proj:transform': [10.0,\n",
       "     0.0,\n",
       "     636990.0,\n",
       "     0.0,\n",
       "     -10.0,\n",
       "     4482600.0,\n",
       "     0.0,\n",
       "     0.0,\n",
       "     1.0],\n",
       "    'proj:projjson': {'$schema': 'https://proj.org/schemas/v0.4/projjson.schema.json',\n",
       "     'type': 'ProjectedCRS',\n",
       "     'name': 'WGS 84 / UTM zone 10N',\n",
       "     'base_crs': {'name': 'WGS 84',\n",
       "      'datum': {'type': 'GeodeticReferenceFrame',\n",
       "       'name': 'World Geodetic System 1984',\n",
       "       'ellipsoid': {'name': 'WGS 84',\n",
       "        'semi_major_axis': 6378137,\n",
       "        'inverse_flattening': 298.257223563}},\n",
       "      'coordinate_system': {'subtype': 'ellipsoidal',\n",
       "       'axis': [{'name': 'Geodetic latitude',\n",
       "         'abbreviation': 'Lat',\n",
       "         'direction': 'north',\n",
       "         'unit': 'degree'},\n",
       "        {'name': 'Geodetic longitude',\n",
       "         'abbreviation': 'Lon',\n",
       "         'direction': 'east',\n",
       "         'unit': 'degree'}]},\n",
       "      'id': {'authority': 'EPSG', 'code': 4326}},\n",
       "     'conversion': {'name': 'UTM zone 10N',\n",
       "      'method': {'name': 'Transverse Mercator',\n",
       "       'id': {'authority': 'EPSG', 'code': 9807}},\n",
       "      'parameters': [{'name': 'Latitude of natural origin',\n",
       "        'value': 0,\n",
       "        'unit': 'degree',\n",
       "        'id': {'authority': 'EPSG', 'code': 8801}},\n",
       "       {'name': 'Longitude of natural origin',\n",
       "        'value': -123,\n",
       "        'unit': 'degree',\n",
       "        'id': {'authority': 'EPSG', 'code': 8802}},\n",
       "       {'name': 'Scale factor at natural origin',\n",
       "        'value': 0.9996,\n",
       "        'unit': 'unity',\n",
       "        'id': {'authority': 'EPSG', 'code': 8805}},\n",
       "       {'name': 'False easting',\n",
       "        'value': 500000,\n",
       "        'unit': 'metre',\n",
       "        'id': {'authority': 'EPSG', 'code': 8806}},\n",
       "       {'name': 'False northing',\n",
       "        'value': 0,\n",
       "        'unit': 'metre',\n",
       "        'id': {'authority': 'EPSG', 'code': 8807}}]},\n",
       "     'coordinate_system': {'subtype': 'Cartesian',\n",
       "      'axis': [{'name': 'Easting',\n",
       "        'abbreviation': '',\n",
       "        'direction': 'east',\n",
       "        'unit': 'metre'},\n",
       "       {'name': 'Northing',\n",
       "        'abbreviation': '',\n",
       "        'direction': 'north',\n",
       "        'unit': 'metre'}]},\n",
       "     'id': {'authority': 'EPSG', 'code': 32610}},\n",
       "    'datetime': '2022-05-24T19:03:29Z'},\n",
       "   'geometry': {'type': 'Polygon',\n",
       "    'coordinates': [[[-121.39905410179915, 39.833916743259095],\n",
       "      [-120.76135965075635, 39.82336095080461],\n",
       "      [-120.73995321724426, 40.471999341669175],\n",
       "      [-121.38373773482932, 40.482798837728375],\n",
       "      [-121.39905410179915, 39.833916743259095]]]},\n",
       "   'links': [{'rel': 'collection',\n",
       "     'href': 's3://results/90f980c6-8bac-11ef-ae11-0ac1619c2c37/90f980c6-8bac-11ef-ae11-0ac1619c2c37/collection.json',\n",
       "     'type': 'application/json',\n",
       "     'title': 'Processing results'},\n",
       "    {'rel': 'root',\n",
       "     'href': 's3://results/90f980c6-8bac-11ef-ae11-0ac1619c2c37/catalog.json',\n",
       "     'type': 'application/json'},\n",
       "    {'rel': 'self',\n",
       "     'href': 's3://results/90f980c6-8bac-11ef-ae11-0ac1619c2c37/90f980c6-8bac-11ef-ae11-0ac1619c2c37/S2A_10TFK_20220524_0_L2A/S2A_10TFK_20220524_0_L2A.json',\n",
       "     'type': 'application/json'},\n",
       "    {'rel': 'parent',\n",
       "     'href': 's3://results/90f980c6-8bac-11ef-ae11-0ac1619c2c37/90f980c6-8bac-11ef-ae11-0ac1619c2c37/collection.json',\n",
       "     'type': 'application/json',\n",
       "     'title': 'Processing results'}],\n",
       "   'assets': {'data': {'href': 's3://results/90f980c6-8bac-11ef-ae11-0ac1619c2c37/90f980c6-8bac-11ef-ae11-0ac1619c2c37/S2A_10TFK_20220524_0_L2A/otsu.tif',\n",
       "     'type': 'image/tiff; application=geotiff',\n",
       "     'storage:platform': 'EOEPCA',\n",
       "     'storage:requester_pays': False,\n",
       "     'storage:tier': 'Standard',\n",
       "     'storage:region': 'aaa',\n",
       "     'storage:endpoint': 'bb',\n",
       "     'roles': ['data', 'visual']}},\n",
       "   'bbox': [-121.39905410179915,\n",
       "    39.82336095080461,\n",
       "    -120.73995321724426,\n",
       "    40.482798837728375],\n",
       "   'stac_extensions': ['https://stac-extensions.github.io/projection/v1.1.0/schema.json'],\n",
       "   'collection': 'ccc'}]}"
      ]
     },
     "execution_count": 45,
     "metadata": {},
     "output_type": "execute_result"
    }
   ],
   "source": [
    "collection.to_dict()"
   ]
  },
  {
   "cell_type": "code",
   "execution_count": null,
   "metadata": {},
   "outputs": [],
   "source": []
  }
 ],
 "metadata": {
  "kernelspec": {
   "display_name": "Python (ZOO-Project)",
   "language": "python",
   "name": "zoo_env"
  },
  "language_info": {
   "codemirror_mode": {
    "name": "ipython",
    "version": 3
   },
   "file_extension": ".py",
   "mimetype": "text/x-python",
   "name": "python",
   "nbconvert_exporter": "python",
   "pygments_lexer": "ipython3",
   "version": "3.9.19"
  }
 },
 "nbformat": 4,
 "nbformat_minor": 2
}
