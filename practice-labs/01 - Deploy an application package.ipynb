{
 "cells": [
  {
   "cell_type": "markdown",
   "metadata": {},
   "source": [
    "# Deploy the Application Package\n",
    "\n",
    "Deploying an Application Package using the OGC API Processes API uses the API resource highlighted in the table below:\n",
    "\n",
    "\n",
    "| **Resource**                   | **Path**                                  | **Purpose**                                                                     | **Part**   |\n",
    "|--------------------------------|-------------------------------------------|---------------------------------------------------------------------------------|------------|\n",
    "| Landing page                   | `/`                                       | Top-level resource serving as an entry point.                                   | Part 1     |\n",
    "| Conformance declaration        | `/conformance`                            | Information about the functionality supported by the server.                    | Part 1     |\n",
    "| API Definition                 | `/api`                                    | Metadata about the API itself.                                                  | Part 1     |\n",
    "| Process list                   | `/processes`                              | Lists available processes with identifiers and links to descriptions.           | Part 1     |\n",
    "| Process description            | `/processes/{processID}`                  | Retrieves detailed information about a specific process.                        | Part 1     |\n",
    "| Process execution              | `/processes/{processID}/execution`        | Executes a process, creating a job.                                             | Part 1     |\n",
    "| **Deploy Process**             | **`/processes` (POST)**                   | **Deploys a new process on the server.**                                        | **Part 2** |\n",
    "| Replace Process                | `/processes/{processID}` (PUT)            | Replaces an existing process with a new version.                                | Part 2     |\n",
    "| Undeploy Process               | `/processes/{processID}` (DELETE)         | Removes an existing process from the server.                                    | Part 2     |\n",
    "| Job status info                | `/jobs/{jobID}`                           | Retrieves the current status of a job.                                          | Part 1     |\n",
    "| Job results                    | `/jobs/{jobID}/results`                   | Retrieves the results of a job.                                                 | Part 1     |\n",
    "| Job list                       | `/jobs`                                   | Retrieves a list of submitted jobs.                                             | Part 1     |\n",
    "| Job deletion                   | `/jobs/{jobID}`                           | Cancels and deletes a job.                                                      | Part 1     |\n",
    "\n",
    "\n",
    "This resource permits the deployment of the an Application Package and provide two options for the `Content-Type`."
   ]
  },
  {
   "cell_type": "markdown",
   "metadata": {},
   "source": [
    "## Hands-on - Deploy the water_bodies Application Package\n",
    "\n",
    "**Encoding Options**\n",
    "\n",
    "The deployment can use two encodings that are based on the same CWL conformance class. Both methods utilize the same water_bodies.cwl file, but the way the file is provided differs:\n",
    "- OGC Application Package Encoding (application/ogcapppkg+json): This method allows you to reference the CWL file by providing its location, rather than including the file's content in the request.\n",
    "- CWL Encoding (application/cwl+yaml): This method requires the CWL file content to be included directly in the request body.\n",
    "\n",
    "**Request Configuration**\n",
    "\n",
    "When selecting a content type, the request body text area updates to contain a relevant payload template for that encoding.\n",
    "Warning: If the payload is manually edited, switching to a different encoding may not refresh the text area. In this case, the Reset button can be used to restore the appropriate template.\n",
    "\n",
    "**Server Response**\n",
    "\n",
    "After executing the deployment request, the server responds with a process summary similar to the one obtained from the previous process listing endpoint.\n",
    "The server’s response includes a Location header containing the URL to access the detailed process description.\n",
    "\n",
    "**Next Steps** \n",
    "\n",
    "You can either:\n",
    "- Return to the list of available processes to verify the newly deployed process.\n",
    "- Proceed to the next step to review the process description in detail"
   ]
  },
  {
   "cell_type": "markdown",
   "metadata": {},
   "source": [
    "## Setup\n",
    "\n",
    "Lists available processes in the `acme` namespace.\n",
    "\n",
    "> **_NOTE:_**: if the `acme` namespace does not exist, ZOO Project will create it."
   ]
  },
  {
   "cell_type": "code",
   "execution_count": 13,
   "metadata": {},
   "outputs": [
    {
     "data": {
      "text/plain": [
       "200"
      ]
     },
     "execution_count": 13,
     "metadata": {},
     "output_type": "execute_result"
    }
   ],
   "source": [
    "import requests\n",
    "import json\n",
    "import yaml\n",
    "import time\n",
    "from loguru import logger\n",
    "from pystac.item_collection import ItemCollection\n",
    "\n",
    "namespace = \"acme\"\n",
    "\n",
    "ogc_api_endpoint = f\"http://zoo-project-dru-service/{namespace}/ogc-api\"\n",
    "\n",
    "r = requests.get(f\"{ogc_api_endpoint}/processes\")\n",
    "\n",
    "r.status_code"
   ]
  },
  {
   "cell_type": "markdown",
   "metadata": {},
   "source": [
    "\n",
    "If the application package was deployed previously, delete it."
   ]
  },
  {
   "cell_type": "code",
   "execution_count": 14,
   "metadata": {},
   "outputs": [
    {
     "data": {
      "text/plain": [
       "200"
      ]
     },
     "execution_count": 14,
     "metadata": {},
     "output_type": "execute_result"
    }
   ],
   "source": [
    "def undeploy(process_id):\n",
    "\n",
    "    r = requests.delete(f\"{ogc_api_endpoint}/processes/{process_id}\")\n",
    "\n",
    "    return r\n",
    "\n",
    "app_package_entry_point = \"main\"\n",
    "\n",
    "undeploy(app_package_entry_point)\n",
    "\n",
    "r.status_code"
   ]
  },
  {
   "cell_type": "markdown",
   "metadata": {},
   "source": [
    "## OGC Application Package Encoding (application/ogcapppkg+json)"
   ]
  },
  {
   "cell_type": "code",
   "execution_count": 15,
   "metadata": {},
   "outputs": [],
   "source": [
    "headers = {\"accept\": \"application/json\", \n",
    "          \"Content-Type\": \"application/ogcapppkg+json\"}\n",
    "\n",
    "app_package_entry_point = \"main\"\n",
    "\n",
    "response = requests.post(\n",
    "    \n",
    "    f\"{ogc_api_endpoint}/processes/?w={app_package_entry_point}\",\n",
    "    headers=headers,\n",
    "    json = {\n",
    "      \"executionUnit\": {\n",
    "        \"href\": \"https://github.com/eoap/mastering-app-package/releases/download/1.0.0/app-water-bodies-cloud-native.1.0.0.cwl\",\n",
    "        \"type\": \"application/cwl\"\n",
    "      }\n",
    "    }\n",
    ")"
   ]
  },
  {
   "cell_type": "code",
   "execution_count": 24,
   "metadata": {},
   "outputs": [
    {
     "data": {
      "text/plain": [
       "{'id': 'main',\n",
       " 'title': 'Water bodies detection based on NDWI and otsu threshold',\n",
       " 'description': 'Water bodies detection based on NDWI and otsu threshold applied to Sentinel-2 COG STAC items',\n",
       " 'mutable': True,\n",
       " 'version': '1.0.0',\n",
       " 'metadata': [{'role': 'https://schema.org/softwareVersion', 'value': '1.0.0'},\n",
       "  {'role': 'https://schema.org/author',\n",
       "   'value': {'@context': 'https://schema.org',\n",
       "    '@type': 'Person',\n",
       "    's.name': 'Jane Doe',\n",
       "    's.email': 'jane.doe@acme.earth',\n",
       "    's.affiliation': 'ACME'}}],\n",
       " 'outputTransmission': ['value', 'reference'],\n",
       " 'jobControlOptions': ['async-execute', 'dismiss'],\n",
       " 'links': [{'rel': 'http://www.opengis.net/def/rel/ogc/1.0/execute',\n",
       "   'type': 'application/json',\n",
       "   'title': 'Execute End Point',\n",
       "   'href': 'http://localhost:8080/acme/ogc-api/processes/main/execution'}]}"
      ]
     },
     "execution_count": 24,
     "metadata": {},
     "output_type": "execute_result"
    }
   ],
   "source": [
    "response.json()"
   ]
  },
  {
   "cell_type": "code",
   "execution_count": 23,
   "metadata": {},
   "outputs": [
    {
     "data": {
      "text/plain": [
       "{'Date': 'Mon, 21 Oct 2024 13:06:57 GMT',\n",
       " 'Server': 'Apache/2.4.41 (Ubuntu)',\n",
       " 'X-Powered-By': 'ZOO-Project-DRU',\n",
       " 'X-Also-Powered-By': 'jwt.securityIn',\n",
       " 'X-Also-Also-Powered-By': 'dru.securityIn',\n",
       " 'X-Also-Also-Also-Powered-By': 'dru.securityOut',\n",
       " 'Location': 'http://localhost:8080/acme/ogc-api/processes/main',\n",
       " 'Keep-Alive': 'timeout=5, max=100',\n",
       " 'Connection': 'Keep-Alive',\n",
       " 'Transfer-Encoding': 'chunked',\n",
       " 'Content-Type': 'application/json;charset=UTF-8'}"
      ]
     },
     "execution_count": 23,
     "metadata": {},
     "output_type": "execute_result"
    }
   ],
   "source": [
    "dict(response.headers)"
   ]
  },
  {
   "cell_type": "markdown",
   "metadata": {},
   "source": [
    "## CWL Encoding (application/cwl+yaml)"
   ]
  },
  {
   "cell_type": "markdown",
   "metadata": {},
   "source": [
    "If the application package was deployed previously, delete it."
   ]
  },
  {
   "cell_type": "code",
   "execution_count": 26,
   "metadata": {},
   "outputs": [
    {
     "data": {
      "text/plain": [
       "<Response [204]>"
      ]
     },
     "execution_count": 26,
     "metadata": {},
     "output_type": "execute_result"
    }
   ],
   "source": [
    "app_package_entry_point = \"main\"\n",
    "\n",
    "undeploy(app_package_entry_point)"
   ]
  },
  {
   "cell_type": "markdown",
   "metadata": {},
   "source": [
    "Download the application package from https://github.com/eoap/mastering-app-package/releases/download/1.0.0/app-water-bodies-cloud-native.1.0.0.cwl"
   ]
  },
  {
   "cell_type": "code",
   "execution_count": 27,
   "metadata": {},
   "outputs": [
    {
     "data": {
      "text/plain": [
       "{'cwlVersion': 'v1.0',\n",
       " '$namespaces': {'s': 'https://schema.org/'},\n",
       " 's:softwareVersion': '1.0.0',\n",
       " 'schemas': ['http://schema.org/version/9.0/schemaorg-current-http.rdf'],\n",
       " '$graph': [{'class': 'Workflow',\n",
       "   'id': 'main',\n",
       "   'label': 'Water bodies detection based on NDWI and otsu threshold',\n",
       "   'doc': 'Water bodies detection based on NDWI and otsu threshold applied to Sentinel-2 COG STAC items',\n",
       "   'requirements': [{'class': 'ScatterFeatureRequirement'},\n",
       "    {'class': 'SubworkflowFeatureRequirement'}],\n",
       "   'inputs': {'aoi': {'label': 'area of interest',\n",
       "     'doc': 'area of interest as a bounding box',\n",
       "     'type': 'string'},\n",
       "    'epsg': {'label': 'EPSG code',\n",
       "     'doc': 'EPSG code',\n",
       "     'type': 'string',\n",
       "     'default': 'EPSG:4326'},\n",
       "    'stac_items': {'label': 'Sentinel-2 STAC items',\n",
       "     'doc': 'list of Sentinel-2 COG STAC items',\n",
       "     'type': 'string[]'},\n",
       "    'bands': {'label': 'bands used for the NDWI',\n",
       "     'doc': 'bands used for the NDWI',\n",
       "     'type': 'string[]',\n",
       "     'default': ['green', 'nir']}},\n",
       "   'outputs': [{'id': 'stac_catalog',\n",
       "     'outputSource': ['node_stac/stac_catalog'],\n",
       "     'type': 'Directory'}],\n",
       "   'steps': {'node_water_bodies': {'run': '#detect_water_body',\n",
       "     'in': {'item': 'stac_items',\n",
       "      'aoi': 'aoi',\n",
       "      'epsg': 'epsg',\n",
       "      'bands': 'bands'},\n",
       "     'out': ['detected_water_body'],\n",
       "     'scatter': 'item',\n",
       "     'scatterMethod': 'dotproduct'},\n",
       "    'node_stac': {'run': '#stac',\n",
       "     'in': {'item': 'stac_items',\n",
       "      'rasters': {'source': 'node_water_bodies/detected_water_body'}},\n",
       "     'out': ['stac_catalog']}}},\n",
       "  {'class': 'Workflow',\n",
       "   'id': 'detect_water_body',\n",
       "   'label': 'Water body detection based on NDWI and otsu threshold',\n",
       "   'doc': 'Water body detection based on NDWI and otsu threshold',\n",
       "   'requirements': [{'class': 'ScatterFeatureRequirement'}],\n",
       "   'inputs': {'aoi': {'doc': 'area of interest as a bounding box',\n",
       "     'type': 'string'},\n",
       "    'epsg': {'doc': 'EPSG code', 'type': 'string', 'default': 'EPSG:4326'},\n",
       "    'bands': {'doc': 'bands used for the NDWI', 'type': 'string[]'},\n",
       "    'item': {'doc': 'STAC item', 'type': 'string'}},\n",
       "   'outputs': [{'id': 'detected_water_body',\n",
       "     'outputSource': ['node_otsu/binary_mask_item'],\n",
       "     'type': 'File'}],\n",
       "   'steps': {'node_crop': {'run': '#crop',\n",
       "     'in': {'item': 'item', 'aoi': 'aoi', 'epsg': 'epsg', 'band': 'bands'},\n",
       "     'out': ['cropped'],\n",
       "     'scatter': 'band',\n",
       "     'scatterMethod': 'dotproduct'},\n",
       "    'node_normalized_difference': {'run': '#norm_diff',\n",
       "     'in': {'rasters': {'source': 'node_crop/cropped'}},\n",
       "     'out': ['ndwi']},\n",
       "    'node_otsu': {'run': '#otsu',\n",
       "     'in': {'raster': {'source': 'node_normalized_difference/ndwi'}},\n",
       "     'out': ['binary_mask_item']}}},\n",
       "  {'class': 'CommandLineTool',\n",
       "   'id': 'crop',\n",
       "   'requirements': {'InlineJavascriptRequirement': {},\n",
       "    'EnvVarRequirement': {'envDef': {'PATH': '/usr/local/sbin:/usr/local/bin:/usr/sbin:/usr/bin:/sbin:/bin',\n",
       "      'PYTHONPATH': '/app'}},\n",
       "    'ResourceRequirement': {'coresMax': 1, 'ramMax': 512}},\n",
       "   'hints': {'DockerRequirement': {'dockerPull': 'ghcr.io/eoap/mastering-app-package/crop@sha256:7685570a79a66d74ae841418b163aefe2da503cfc2ba0855eedf708f336a6144'}},\n",
       "   'baseCommand': ['python', '-m', 'app'],\n",
       "   'arguments': [],\n",
       "   'inputs': {'item': {'type': 'string',\n",
       "     'inputBinding': {'prefix': '--input-item'}},\n",
       "    'aoi': {'type': 'string', 'inputBinding': {'prefix': '--aoi'}},\n",
       "    'epsg': {'type': 'string', 'inputBinding': {'prefix': '--epsg'}},\n",
       "    'band': {'type': 'string', 'inputBinding': {'prefix': '--band'}}},\n",
       "   'outputs': {'cropped': {'outputBinding': {'glob': '*.tif'},\n",
       "     'type': 'File'}}},\n",
       "  {'class': 'CommandLineTool',\n",
       "   'id': 'norm_diff',\n",
       "   'requirements': {'InlineJavascriptRequirement': {},\n",
       "    'EnvVarRequirement': {'envDef': {'PATH': '/usr/local/sbin:/usr/local/bin:/usr/sbin:/usr/bin:/sbin:/bin',\n",
       "      'PYTHONPATH': '/app'}},\n",
       "    'ResourceRequirement': {'coresMax': 1, 'ramMax': 512}},\n",
       "   'hints': {'DockerRequirement': {'dockerPull': 'ghcr.io/eoap/mastering-app-package/norm_diff@sha256:757636c8d827c0cde38fd023552dd555bb231bc8412477e980ea9392765d9034'}},\n",
       "   'baseCommand': ['python', '-m', 'app'],\n",
       "   'arguments': [],\n",
       "   'inputs': {'rasters': {'type': 'File[]', 'inputBinding': {'position': 1}}},\n",
       "   'outputs': {'ndwi': {'outputBinding': {'glob': '*.tif'}, 'type': 'File'}}},\n",
       "  {'class': 'CommandLineTool',\n",
       "   'id': 'otsu',\n",
       "   'requirements': {'InlineJavascriptRequirement': {},\n",
       "    'EnvVarRequirement': {'envDef': {'PATH': '/usr/local/sbin:/usr/local/bin:/usr/sbin:/usr/bin:/sbin:/bin',\n",
       "      'PYTHONPATH': '/app'}},\n",
       "    'ResourceRequirement': {'coresMax': 1, 'ramMax': 512}},\n",
       "   'hints': {'DockerRequirement': {'dockerPull': 'ghcr.io/eoap/mastering-app-package/otsu@sha256:dc949ffbe9b8ca931dbdce0895166830d3d72c468eb06f83bded648e7ee56db7'}},\n",
       "   'baseCommand': ['python', '-m', 'app'],\n",
       "   'arguments': [],\n",
       "   'inputs': {'raster': {'type': 'File', 'inputBinding': {'position': 1}}},\n",
       "   'outputs': {'binary_mask_item': {'outputBinding': {'glob': '*.tif'},\n",
       "     'type': 'File'}}},\n",
       "  {'class': 'CommandLineTool',\n",
       "   'id': 'stac',\n",
       "   'requirements': {'InlineJavascriptRequirement': {},\n",
       "    'EnvVarRequirement': {'envDef': {'PATH': '/usr/local/sbin:/usr/local/bin:/usr/sbin:/usr/bin:/sbin:/bin',\n",
       "      'PYTHONPATH': '/app'}},\n",
       "    'ResourceRequirement': {'coresMax': 1, 'ramMax': 512}},\n",
       "   'hints': {'DockerRequirement': {'dockerPull': 'ghcr.io/eoap/mastering-app-package/stac@sha256:ec9d8685e00238ec34f95c3b8d97d81bc70fa1fc37b443e70c79831f9b05f526'}},\n",
       "   'baseCommand': ['python', '-m', 'app'],\n",
       "   'arguments': [],\n",
       "   'inputs': {'item': {'type': {'type': 'array',\n",
       "      'items': 'string',\n",
       "      'inputBinding': {'prefix': '--input-item'}}},\n",
       "    'rasters': {'type': {'type': 'array',\n",
       "      'items': 'File',\n",
       "      'inputBinding': {'prefix': '--water-body'}}}},\n",
       "   'outputs': {'stac_catalog': {'outputBinding': {'glob': '.'},\n",
       "     'type': 'Directory'}}}],\n",
       " 's:codeRepository': {'URL': 'https://github.com/eoap/mastering-app-package.git'},\n",
       " 's:author': [{'class': 's:Person',\n",
       "   's.name': 'Jane Doe',\n",
       "   's.email': 'jane.doe@acme.earth',\n",
       "   's.affiliation': 'ACME'}]}"
      ]
     },
     "execution_count": 27,
     "metadata": {},
     "output_type": "execute_result"
    }
   ],
   "source": [
    "r = requests.get(\"https://github.com/eoap/mastering-app-package/releases/download/1.0.0/app-water-bodies-cloud-native.1.0.0.cwl\")\n",
    "\n",
    "app_package_content  = yaml.safe_load(r.content)\n",
    "\n",
    "app_package_content"
   ]
  },
  {
   "cell_type": "code",
   "execution_count": 28,
   "metadata": {},
   "outputs": [
    {
     "data": {
      "text/plain": [
       "201"
      ]
     },
     "execution_count": 28,
     "metadata": {},
     "output_type": "execute_result"
    }
   ],
   "source": [
    "app_package_entry_point = \"main\"\n",
    "\n",
    "headers = {\"accept\": \"application/json\", \n",
    "          \"Content-Type\": \"application/cwl+yaml\"}\n",
    "\n",
    "response = requests.post(\n",
    "    f\"{ogc_api_endpoint}/processes?w={app_package_entry_point}\",\n",
    "    headers=headers,\n",
    "    json=app_package_content\n",
    ")\n",
    "\n",
    "response.status_code"
   ]
  },
  {
   "cell_type": "code",
   "execution_count": 29,
   "metadata": {},
   "outputs": [
    {
     "data": {
      "text/plain": [
       "{'id': 'main',\n",
       " 'title': 'Water bodies detection based on NDWI and otsu threshold',\n",
       " 'description': 'Water bodies detection based on NDWI and otsu threshold applied to Sentinel-2 COG STAC items',\n",
       " 'mutable': True,\n",
       " 'version': '1.0.0',\n",
       " 'metadata': [{'role': 'https://schema.org/softwareVersion', 'value': '1.0.0'},\n",
       "  {'role': 'https://schema.org/author',\n",
       "   'value': {'@context': 'https://schema.org',\n",
       "    '@type': 'Person',\n",
       "    's.name': 'Jane Doe',\n",
       "    's.email': 'jane.doe@acme.earth',\n",
       "    's.affiliation': 'ACME'}}],\n",
       " 'outputTransmission': ['value', 'reference'],\n",
       " 'jobControlOptions': ['async-execute', 'dismiss'],\n",
       " 'links': [{'rel': 'http://www.opengis.net/def/rel/ogc/1.0/execute',\n",
       "   'type': 'application/json',\n",
       "   'title': 'Execute End Point',\n",
       "   'href': 'http://localhost:8080/acme/ogc-api/processes/main/execution'}]}"
      ]
     },
     "execution_count": 29,
     "metadata": {},
     "output_type": "execute_result"
    }
   ],
   "source": [
    "response.json()"
   ]
  },
  {
   "cell_type": "code",
   "execution_count": 30,
   "metadata": {},
   "outputs": [
    {
     "data": {
      "text/plain": [
       "{'Date': 'Mon, 21 Oct 2024 13:11:01 GMT',\n",
       " 'Server': 'Apache/2.4.41 (Ubuntu)',\n",
       " 'X-Powered-By': 'ZOO-Project-DRU',\n",
       " 'X-Also-Powered-By': 'jwt.securityIn',\n",
       " 'X-Also-Also-Powered-By': 'dru.securityIn',\n",
       " 'X-Also-Also-Also-Powered-By': 'dru.securityOut',\n",
       " 'Location': 'http://localhost:8080/acme/ogc-api/processes/main',\n",
       " 'Keep-Alive': 'timeout=5, max=100',\n",
       " 'Connection': 'Keep-Alive',\n",
       " 'Transfer-Encoding': 'chunked',\n",
       " 'Content-Type': 'application/json;charset=UTF-8'}"
      ]
     },
     "execution_count": 30,
     "metadata": {},
     "output_type": "execute_result"
    }
   ],
   "source": [
    "dict(response.headers)"
   ]
  },
  {
   "cell_type": "markdown",
   "metadata": {},
   "source": [
    "**Next Steps** \n",
    "\n",
    "You can either:\n",
    "- Return to the list of available processes to verify the newly deployed process.\n",
    "- Proceed to the next step to review the process description in detail"
   ]
  },
  {
   "cell_type": "code",
   "execution_count": null,
   "metadata": {},
   "outputs": [],
   "source": []
  }
 ],
 "metadata": {
  "kernelspec": {
   "display_name": "Python (ZOO-Project)",
   "language": "python",
   "name": "zoo_env"
  },
  "language_info": {
   "codemirror_mode": {
    "name": "ipython",
    "version": 3
   },
   "file_extension": ".py",
   "mimetype": "text/x-python",
   "name": "python",
   "nbconvert_exporter": "python",
   "pygments_lexer": "ipython3",
   "version": "3.9.19"
  }
 },
 "nbformat": 4,
 "nbformat_minor": 2
}
