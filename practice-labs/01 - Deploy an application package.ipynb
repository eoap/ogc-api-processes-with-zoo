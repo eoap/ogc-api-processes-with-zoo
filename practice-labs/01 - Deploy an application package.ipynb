{
 "cells": [
  {
   "cell_type": "markdown",
   "metadata": {},
   "source": [
    "# Deploy the Application Package\n",
    "\n",
    "Deploying an Application Package using the OGC API Processes API uses the API resource highlighted in the table below:\n",
    "\n",
    "\n",
    "| **Resource**                   | **Path**                                  | **Purpose**                                                                     | **Part**   |\n",
    "|--------------------------------|-------------------------------------------|---------------------------------------------------------------------------------|------------|\n",
    "| Landing page                   | `/`                                       | Top-level resource serving as an entry point.                                   | Part 1     |\n",
    "| Conformance declaration        | `/conformance`                            | Information about the functionality supported by the server.                    | Part 1     |\n",
    "| API Definition                 | `/api`                                    | Metadata about the API itself.                                                  | Part 1     |\n",
    "| Process list                   | `/processes`                              | Lists available processes with identifiers and links to descriptions.           | Part 1     |\n",
    "| Process description            | `/processes/{processID}`                  | Retrieves detailed information about a specific process.                        | Part 1     |\n",
    "| Process execution              | `/processes/{processID}/execution`        | Executes a process, creating a job.                                             | Part 1     |\n",
    "| **Deploy Process**             | **`/processes` (POST)**                   | **Deploys a new process on the server.**                                        | **Part 2** |\n",
    "| Replace Process                | `/processes/{processID}` (PUT)            | Replaces an existing process with a new version.                                | Part 2     |\n",
    "| Undeploy Process               | `/processes/{processID}` (DELETE)         | Removes an existing process from the server.                                    | Part 2     |\n",
    "| Job status info                | `/jobs/{jobID}`                           | Retrieves the current status of a job.                                          | Part 1     |\n",
    "| Job results                    | `/jobs/{jobID}/results`                   | Retrieves the results of a job.                                                 | Part 1     |\n",
    "| Job list                       | `/jobs`                                   | Retrieves a list of submitted jobs.                                             | Part 1     |\n",
    "| Job deletion                   | `/jobs/{jobID}`                           | Cancels and deletes a job.                                                      | Part 1     |\n",
    "\n",
    "\n",
    "This resource permits the deployment of the an Application Package and provide two options for the `Content-Type`."
   ]
  },
  {
   "cell_type": "markdown",
   "metadata": {},
   "source": [
    "## Hands-on - Deploy the water_bodies Application Package\n",
    "\n",
    "**Encoding Options**\n",
    "\n",
    "The deployment can use two encodings that are based on the same CWL conformance class. Both methods utilize the same water_bodies.cwl file, but the way the file is provided differs:\n",
    "- OGC Application Package Encoding (application/ogcapppkg+json): This method allows you to reference the CWL file by providing its location, rather than including the file's content in the request.\n",
    "- CWL Encoding (application/cwl+yaml): This method requires the CWL file content to be included directly in the request body.\n",
    "\n",
    "**Request Configuration**\n",
    "\n",
    "When selecting a content type, the request body text area updates to contain a relevant payload template for that encoding.\n",
    "Warning: If the payload is manually edited, switching to a different encoding may not refresh the text area. In this case, the Reset button can be used to restore the appropriate template.\n",
    "\n",
    "**Server Response**\n",
    "\n",
    "After executing the deployment request, the server responds with a process summary similar to the one obtained from the previous process listing endpoint.\n",
    "The server’s response includes a Location header containing the URL to access the detailed process description.\n",
    "\n",
    "**Next Steps** \n",
    "\n",
    "You can either:\n",
    "- Return to the list of available processes to verify the newly deployed process.\n",
    "- Proceed to the next step to review the process description in detail"
   ]
  },
  {
   "cell_type": "markdown",
   "metadata": {},
   "source": [
    "## Setup\n",
    "\n",
    "Lists available processes in the `acme` namespace."
   ]
  },
  {
   "cell_type": "code",
   "execution_count": null,
   "metadata": {},
   "outputs": [],
   "source": [
    "import requests\n",
    "import json\n",
    "import yaml\n",
    "import time\n",
    "from loguru import logger\n",
    "from pystac.item_collection import ItemCollection\n",
    "\n",
    "namespace = \"acme\"\n",
    "\n",
    "ogc_api_endpoint = f\"http://zoo-project-dru-service/{namespace}/ogc-api\"\n",
    "\n",
    "r = requests.get(f\"{ogc_api_endpoint}/processes\")\n",
    "\n",
    "r.json()"
   ]
  },
  {
   "cell_type": "code",
   "execution_count": null,
   "metadata": {},
   "outputs": [],
   "source": [
    "headers = {}\n",
    "response = requests.post(\n",
    "    f\"{ogc_api_endpoint}\",\n",
    "    headers = dict([(\"Content-Type\", \"application/json\")], **headers),\n",
    "    json = {\n",
    "      \"executionUnit\": {\n",
    "        \"href\": \"https://github.com/eoap/mastering-app-package/releases/download/1.0.0/app-water-bodies-cloud-native.1.0.0.cwl\",\n",
    "        \"type\": \"application/cwl\"\n",
    "      }\n",
    "    }\n",
    ")"
   ]
  },
  {
   "cell_type": "code",
   "execution_count": null,
   "metadata": {},
   "outputs": [],
   "source": [
    "print(response.json())"
   ]
  },
  {
   "cell_type": "code",
   "execution_count": null,
   "metadata": {},
   "outputs": [],
   "source": [
    "print(response.status_code)"
   ]
  },
  {
   "cell_type": "code",
   "execution_count": null,
   "metadata": {},
   "outputs": [],
   "source": [
    "print(response.text)"
   ]
  }
 ],
 "metadata": {
  "language_info": {
   "name": "python"
  }
 },
 "nbformat": 4,
 "nbformat_minor": 2
}
