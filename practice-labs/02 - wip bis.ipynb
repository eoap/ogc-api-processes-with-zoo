{
 "cells": [
  {
   "cell_type": "code",
   "execution_count": 1,
   "metadata": {},
   "outputs": [
    {
     "data": {
      "text/plain": [
       "{'processes': [{'id': 'echo',\n",
       "   'title': 'Echo input',\n",
       "   'description': 'Simply echo the value provided as input',\n",
       "   'mutable': False,\n",
       "   'version': '2.0.0',\n",
       "   'metadata': [{'title': 'Demo'}],\n",
       "   'jobControlOptions': ['sync-execute', 'async-execute', 'dismiss'],\n",
       "   'outputTransmission': ['value', 'reference'],\n",
       "   'links': [{'rel': 'self',\n",
       "     'type': 'application/json',\n",
       "     'title': 'Process Description',\n",
       "     'href': 'http://localhost:8080/eric/ogc-api/processes/echo'}]},\n",
       "  {'id': 'water-bodies',\n",
       "   'title': 'Water bodies detection based on NDWI and otsu threshold',\n",
       "   'description': 'Water bodies detection based on NDWI and otsu threshold applied to Sentinel-2 COG STAC items',\n",
       "   'mutable': True,\n",
       "   'version': '1.0.0',\n",
       "   'metadata': [{'role': 'https://schema.org/softwareVersion',\n",
       "     'value': '1.0.0'},\n",
       "    {'role': 'https://schema.org/author',\n",
       "     'value': {'@context': 'https://schema.org',\n",
       "      '@type': 'Person',\n",
       "      's.name': 'Jane Doe',\n",
       "      's.email': 'jane.doe@acme.earth',\n",
       "      's.affiliation': 'ACME'}}],\n",
       "   'outputTransmission': ['value', 'reference'],\n",
       "   'jobControlOptions': ['async-execute', 'dismiss'],\n",
       "   'links': [{'rel': 'self',\n",
       "     'type': 'application/json',\n",
       "     'title': 'Process Description',\n",
       "     'href': 'http://localhost:8080/eric/ogc-api/processes/water-bodies'}]}],\n",
       " 'links': [{'rel': 'self',\n",
       "   'type': 'application/json',\n",
       "   'href': 'http://localhost:8080/eric/ogc-api/processes'}],\n",
       " 'numberTotal': 2}"
      ]
     },
     "execution_count": 1,
     "metadata": {},
     "output_type": "execute_result"
    }
   ],
   "source": [
    "import requests\n",
    "import json\n",
    "import yaml\n",
    "import time\n",
    "from loguru import logger\n",
    "from pystac.item_collection import ItemCollection\n",
    "\n",
    "namespace = \"eric\"\n",
    "\n",
    "ogc_api_endpoint = f\"http://zoo-project-dru-service/{namespace}/ogc-api\"\n",
    "\n",
    "r = requests.get(f\"{ogc_api_endpoint}/processes\")\n",
    "\n",
    "r.json()\n"
   ]
  },
  {
   "cell_type": "markdown",
   "metadata": {},
   "source": [
    "TODO delete if it has been deployed"
   ]
  },
  {
   "cell_type": "code",
   "execution_count": 2,
   "metadata": {},
   "outputs": [
    {
     "data": {
      "text/plain": [
       "204"
      ]
     },
     "execution_count": 2,
     "metadata": {},
     "output_type": "execute_result"
    }
   ],
   "source": [
    "r = requests.delete(f\"{ogc_api_endpoint}/processes/water-bodies\")\n",
    "r.status_code"
   ]
  },
  {
   "cell_type": "markdown",
   "metadata": {},
   "source": [
    "## Get the released application package\n",
    "\n",
    "Download the application package from https://github.com/eoap/mastering-app-package/releases/download/1.0.0/app-water-bodies-cloud-native.1.0.0.cwl"
   ]
  },
  {
   "cell_type": "code",
   "execution_count": 3,
   "metadata": {},
   "outputs": [
    {
     "data": {
      "text/plain": [
       "{'cwlVersion': 'v1.0',\n",
       " '$namespaces': {'s': 'https://schema.org/'},\n",
       " 's:softwareVersion': '1.0.0',\n",
       " 'schemas': ['http://schema.org/version/9.0/schemaorg-current-http.rdf'],\n",
       " '$graph': [{'class': 'Workflow',\n",
       "   'id': 'main',\n",
       "   'label': 'Water bodies detection based on NDWI and otsu threshold',\n",
       "   'doc': 'Water bodies detection based on NDWI and otsu threshold applied to Sentinel-2 COG STAC items',\n",
       "   'requirements': [{'class': 'ScatterFeatureRequirement'},\n",
       "    {'class': 'SubworkflowFeatureRequirement'}],\n",
       "   'inputs': {'aoi': {'label': 'area of interest',\n",
       "     'doc': 'area of interest as a bounding box',\n",
       "     'type': 'string'},\n",
       "    'epsg': {'label': 'EPSG code',\n",
       "     'doc': 'EPSG code',\n",
       "     'type': 'string',\n",
       "     'default': 'EPSG:4326'},\n",
       "    'stac_items': {'label': 'Sentinel-2 STAC items',\n",
       "     'doc': 'list of Sentinel-2 COG STAC items',\n",
       "     'type': 'string[]'},\n",
       "    'bands': {'label': 'bands used for the NDWI',\n",
       "     'doc': 'bands used for the NDWI',\n",
       "     'type': 'string[]',\n",
       "     'default': ['green', 'nir']}},\n",
       "   'outputs': [{'id': 'stac_catalog',\n",
       "     'outputSource': ['node_stac/stac_catalog'],\n",
       "     'type': 'Directory'}],\n",
       "   'steps': {'node_water_bodies': {'run': '#detect_water_body',\n",
       "     'in': {'item': 'stac_items',\n",
       "      'aoi': 'aoi',\n",
       "      'epsg': 'epsg',\n",
       "      'bands': 'bands'},\n",
       "     'out': ['detected_water_body'],\n",
       "     'scatter': 'item',\n",
       "     'scatterMethod': 'dotproduct'},\n",
       "    'node_stac': {'run': '#stac',\n",
       "     'in': {'item': 'stac_items',\n",
       "      'rasters': {'source': 'node_water_bodies/detected_water_body'}},\n",
       "     'out': ['stac_catalog']}}},\n",
       "  {'class': 'Workflow',\n",
       "   'id': 'detect_water_body',\n",
       "   'label': 'Water body detection based on NDWI and otsu threshold',\n",
       "   'doc': 'Water body detection based on NDWI and otsu threshold',\n",
       "   'requirements': [{'class': 'ScatterFeatureRequirement'}],\n",
       "   'inputs': {'aoi': {'doc': 'area of interest as a bounding box',\n",
       "     'type': 'string'},\n",
       "    'epsg': {'doc': 'EPSG code', 'type': 'string', 'default': 'EPSG:4326'},\n",
       "    'bands': {'doc': 'bands used for the NDWI', 'type': 'string[]'},\n",
       "    'item': {'doc': 'STAC item', 'type': 'string'}},\n",
       "   'outputs': [{'id': 'detected_water_body',\n",
       "     'outputSource': ['node_otsu/binary_mask_item'],\n",
       "     'type': 'File'}],\n",
       "   'steps': {'node_crop': {'run': '#crop',\n",
       "     'in': {'item': 'item', 'aoi': 'aoi', 'epsg': 'epsg', 'band': 'bands'},\n",
       "     'out': ['cropped'],\n",
       "     'scatter': 'band',\n",
       "     'scatterMethod': 'dotproduct'},\n",
       "    'node_normalized_difference': {'run': '#norm_diff',\n",
       "     'in': {'rasters': {'source': 'node_crop/cropped'}},\n",
       "     'out': ['ndwi']},\n",
       "    'node_otsu': {'run': '#otsu',\n",
       "     'in': {'raster': {'source': 'node_normalized_difference/ndwi'}},\n",
       "     'out': ['binary_mask_item']}}},\n",
       "  {'class': 'CommandLineTool',\n",
       "   'id': 'crop',\n",
       "   'requirements': {'InlineJavascriptRequirement': {},\n",
       "    'EnvVarRequirement': {'envDef': {'PATH': '/usr/local/sbin:/usr/local/bin:/usr/sbin:/usr/bin:/sbin:/bin',\n",
       "      'PYTHONPATH': '/app'}},\n",
       "    'ResourceRequirement': {'coresMax': 1, 'ramMax': 512}},\n",
       "   'hints': {'DockerRequirement': {'dockerPull': 'ghcr.io/eoap/mastering-app-package/crop@sha256:7685570a79a66d74ae841418b163aefe2da503cfc2ba0855eedf708f336a6144'}},\n",
       "   'baseCommand': ['python', '-m', 'app'],\n",
       "   'arguments': [],\n",
       "   'inputs': {'item': {'type': 'string',\n",
       "     'inputBinding': {'prefix': '--input-item'}},\n",
       "    'aoi': {'type': 'string', 'inputBinding': {'prefix': '--aoi'}},\n",
       "    'epsg': {'type': 'string', 'inputBinding': {'prefix': '--epsg'}},\n",
       "    'band': {'type': 'string', 'inputBinding': {'prefix': '--band'}}},\n",
       "   'outputs': {'cropped': {'outputBinding': {'glob': '*.tif'},\n",
       "     'type': 'File'}}},\n",
       "  {'class': 'CommandLineTool',\n",
       "   'id': 'norm_diff',\n",
       "   'requirements': {'InlineJavascriptRequirement': {},\n",
       "    'EnvVarRequirement': {'envDef': {'PATH': '/usr/local/sbin:/usr/local/bin:/usr/sbin:/usr/bin:/sbin:/bin',\n",
       "      'PYTHONPATH': '/app'}},\n",
       "    'ResourceRequirement': {'coresMax': 1, 'ramMax': 512}},\n",
       "   'hints': {'DockerRequirement': {'dockerPull': 'ghcr.io/eoap/mastering-app-package/norm_diff@sha256:757636c8d827c0cde38fd023552dd555bb231bc8412477e980ea9392765d9034'}},\n",
       "   'baseCommand': ['python', '-m', 'app'],\n",
       "   'arguments': [],\n",
       "   'inputs': {'rasters': {'type': 'File[]', 'inputBinding': {'position': 1}}},\n",
       "   'outputs': {'ndwi': {'outputBinding': {'glob': '*.tif'}, 'type': 'File'}}},\n",
       "  {'class': 'CommandLineTool',\n",
       "   'id': 'otsu',\n",
       "   'requirements': {'InlineJavascriptRequirement': {},\n",
       "    'EnvVarRequirement': {'envDef': {'PATH': '/usr/local/sbin:/usr/local/bin:/usr/sbin:/usr/bin:/sbin:/bin',\n",
       "      'PYTHONPATH': '/app'}},\n",
       "    'ResourceRequirement': {'coresMax': 1, 'ramMax': 512}},\n",
       "   'hints': {'DockerRequirement': {'dockerPull': 'ghcr.io/eoap/mastering-app-package/otsu@sha256:dc949ffbe9b8ca931dbdce0895166830d3d72c468eb06f83bded648e7ee56db7'}},\n",
       "   'baseCommand': ['python', '-m', 'app'],\n",
       "   'arguments': [],\n",
       "   'inputs': {'raster': {'type': 'File', 'inputBinding': {'position': 1}}},\n",
       "   'outputs': {'binary_mask_item': {'outputBinding': {'glob': '*.tif'},\n",
       "     'type': 'File'}}},\n",
       "  {'class': 'CommandLineTool',\n",
       "   'id': 'stac',\n",
       "   'requirements': {'InlineJavascriptRequirement': {},\n",
       "    'EnvVarRequirement': {'envDef': {'PATH': '/usr/local/sbin:/usr/local/bin:/usr/sbin:/usr/bin:/sbin:/bin',\n",
       "      'PYTHONPATH': '/app'}},\n",
       "    'ResourceRequirement': {'coresMax': 1, 'ramMax': 512}},\n",
       "   'hints': {'DockerRequirement': {'dockerPull': 'ghcr.io/eoap/mastering-app-package/stac@sha256:ec9d8685e00238ec34f95c3b8d97d81bc70fa1fc37b443e70c79831f9b05f526'}},\n",
       "   'baseCommand': ['python', '-m', 'app'],\n",
       "   'arguments': [],\n",
       "   'inputs': {'item': {'type': {'type': 'array',\n",
       "      'items': 'string',\n",
       "      'inputBinding': {'prefix': '--input-item'}}},\n",
       "    'rasters': {'type': {'type': 'array',\n",
       "      'items': 'File',\n",
       "      'inputBinding': {'prefix': '--water-body'}}}},\n",
       "   'outputs': {'stac_catalog': {'outputBinding': {'glob': '.'},\n",
       "     'type': 'Directory'}}}],\n",
       " 's:codeRepository': {'URL': 'https://github.com/eoap/mastering-app-package.git'},\n",
       " 's:author': [{'class': 's:Person',\n",
       "   's.name': 'Jane Doe',\n",
       "   's.email': 'jane.doe@acme.earth',\n",
       "   's.affiliation': 'ACME'}]}"
      ]
     },
     "execution_count": 3,
     "metadata": {},
     "output_type": "execute_result"
    }
   ],
   "source": [
    "r = requests.get(\"https://github.com/eoap/mastering-app-package/releases/download/1.0.0/app-water-bodies-cloud-native.1.0.0.cwl\")\n",
    "\n",
    "\n",
    "app_package_content  = yaml.safe_load(r.content)\n",
    "\n",
    "app_package_content"
   ]
  },
  {
   "cell_type": "markdown",
   "metadata": {},
   "source": [
    "Update the Application Package entry point to have a meaningful process id"
   ]
  },
  {
   "cell_type": "code",
   "execution_count": 4,
   "metadata": {},
   "outputs": [],
   "source": [
    "process_id = \"water-bodies\"\n",
    "\n",
    "app_package_content[\"$graph\"][0][\"id\"] = process_id"
   ]
  },
  {
   "cell_type": "code",
   "execution_count": 5,
   "metadata": {},
   "outputs": [
    {
     "data": {
      "text/plain": [
       "{'cwlVersion': 'v1.0',\n",
       " '$namespaces': {'s': 'https://schema.org/'},\n",
       " 's:softwareVersion': '1.0.0',\n",
       " 'schemas': ['http://schema.org/version/9.0/schemaorg-current-http.rdf'],\n",
       " '$graph': [{'class': 'Workflow',\n",
       "   'id': 'water-bodies',\n",
       "   'label': 'Water bodies detection based on NDWI and otsu threshold',\n",
       "   'doc': 'Water bodies detection based on NDWI and otsu threshold applied to Sentinel-2 COG STAC items',\n",
       "   'requirements': [{'class': 'ScatterFeatureRequirement'},\n",
       "    {'class': 'SubworkflowFeatureRequirement'}],\n",
       "   'inputs': {'aoi': {'label': 'area of interest',\n",
       "     'doc': 'area of interest as a bounding box',\n",
       "     'type': 'string'},\n",
       "    'epsg': {'label': 'EPSG code',\n",
       "     'doc': 'EPSG code',\n",
       "     'type': 'string',\n",
       "     'default': 'EPSG:4326'},\n",
       "    'stac_items': {'label': 'Sentinel-2 STAC items',\n",
       "     'doc': 'list of Sentinel-2 COG STAC items',\n",
       "     'type': 'string[]'},\n",
       "    'bands': {'label': 'bands used for the NDWI',\n",
       "     'doc': 'bands used for the NDWI',\n",
       "     'type': 'string[]',\n",
       "     'default': ['green', 'nir']}},\n",
       "   'outputs': [{'id': 'stac_catalog',\n",
       "     'outputSource': ['node_stac/stac_catalog'],\n",
       "     'type': 'Directory'}],\n",
       "   'steps': {'node_water_bodies': {'run': '#detect_water_body',\n",
       "     'in': {'item': 'stac_items',\n",
       "      'aoi': 'aoi',\n",
       "      'epsg': 'epsg',\n",
       "      'bands': 'bands'},\n",
       "     'out': ['detected_water_body'],\n",
       "     'scatter': 'item',\n",
       "     'scatterMethod': 'dotproduct'},\n",
       "    'node_stac': {'run': '#stac',\n",
       "     'in': {'item': 'stac_items',\n",
       "      'rasters': {'source': 'node_water_bodies/detected_water_body'}},\n",
       "     'out': ['stac_catalog']}}},\n",
       "  {'class': 'Workflow',\n",
       "   'id': 'detect_water_body',\n",
       "   'label': 'Water body detection based on NDWI and otsu threshold',\n",
       "   'doc': 'Water body detection based on NDWI and otsu threshold',\n",
       "   'requirements': [{'class': 'ScatterFeatureRequirement'}],\n",
       "   'inputs': {'aoi': {'doc': 'area of interest as a bounding box',\n",
       "     'type': 'string'},\n",
       "    'epsg': {'doc': 'EPSG code', 'type': 'string', 'default': 'EPSG:4326'},\n",
       "    'bands': {'doc': 'bands used for the NDWI', 'type': 'string[]'},\n",
       "    'item': {'doc': 'STAC item', 'type': 'string'}},\n",
       "   'outputs': [{'id': 'detected_water_body',\n",
       "     'outputSource': ['node_otsu/binary_mask_item'],\n",
       "     'type': 'File'}],\n",
       "   'steps': {'node_crop': {'run': '#crop',\n",
       "     'in': {'item': 'item', 'aoi': 'aoi', 'epsg': 'epsg', 'band': 'bands'},\n",
       "     'out': ['cropped'],\n",
       "     'scatter': 'band',\n",
       "     'scatterMethod': 'dotproduct'},\n",
       "    'node_normalized_difference': {'run': '#norm_diff',\n",
       "     'in': {'rasters': {'source': 'node_crop/cropped'}},\n",
       "     'out': ['ndwi']},\n",
       "    'node_otsu': {'run': '#otsu',\n",
       "     'in': {'raster': {'source': 'node_normalized_difference/ndwi'}},\n",
       "     'out': ['binary_mask_item']}}},\n",
       "  {'class': 'CommandLineTool',\n",
       "   'id': 'crop',\n",
       "   'requirements': {'InlineJavascriptRequirement': {},\n",
       "    'EnvVarRequirement': {'envDef': {'PATH': '/usr/local/sbin:/usr/local/bin:/usr/sbin:/usr/bin:/sbin:/bin',\n",
       "      'PYTHONPATH': '/app'}},\n",
       "    'ResourceRequirement': {'coresMax': 1, 'ramMax': 512}},\n",
       "   'hints': {'DockerRequirement': {'dockerPull': 'ghcr.io/eoap/mastering-app-package/crop@sha256:7685570a79a66d74ae841418b163aefe2da503cfc2ba0855eedf708f336a6144'}},\n",
       "   'baseCommand': ['python', '-m', 'app'],\n",
       "   'arguments': [],\n",
       "   'inputs': {'item': {'type': 'string',\n",
       "     'inputBinding': {'prefix': '--input-item'}},\n",
       "    'aoi': {'type': 'string', 'inputBinding': {'prefix': '--aoi'}},\n",
       "    'epsg': {'type': 'string', 'inputBinding': {'prefix': '--epsg'}},\n",
       "    'band': {'type': 'string', 'inputBinding': {'prefix': '--band'}}},\n",
       "   'outputs': {'cropped': {'outputBinding': {'glob': '*.tif'},\n",
       "     'type': 'File'}}},\n",
       "  {'class': 'CommandLineTool',\n",
       "   'id': 'norm_diff',\n",
       "   'requirements': {'InlineJavascriptRequirement': {},\n",
       "    'EnvVarRequirement': {'envDef': {'PATH': '/usr/local/sbin:/usr/local/bin:/usr/sbin:/usr/bin:/sbin:/bin',\n",
       "      'PYTHONPATH': '/app'}},\n",
       "    'ResourceRequirement': {'coresMax': 1, 'ramMax': 512}},\n",
       "   'hints': {'DockerRequirement': {'dockerPull': 'ghcr.io/eoap/mastering-app-package/norm_diff@sha256:757636c8d827c0cde38fd023552dd555bb231bc8412477e980ea9392765d9034'}},\n",
       "   'baseCommand': ['python', '-m', 'app'],\n",
       "   'arguments': [],\n",
       "   'inputs': {'rasters': {'type': 'File[]', 'inputBinding': {'position': 1}}},\n",
       "   'outputs': {'ndwi': {'outputBinding': {'glob': '*.tif'}, 'type': 'File'}}},\n",
       "  {'class': 'CommandLineTool',\n",
       "   'id': 'otsu',\n",
       "   'requirements': {'InlineJavascriptRequirement': {},\n",
       "    'EnvVarRequirement': {'envDef': {'PATH': '/usr/local/sbin:/usr/local/bin:/usr/sbin:/usr/bin:/sbin:/bin',\n",
       "      'PYTHONPATH': '/app'}},\n",
       "    'ResourceRequirement': {'coresMax': 1, 'ramMax': 512}},\n",
       "   'hints': {'DockerRequirement': {'dockerPull': 'ghcr.io/eoap/mastering-app-package/otsu@sha256:dc949ffbe9b8ca931dbdce0895166830d3d72c468eb06f83bded648e7ee56db7'}},\n",
       "   'baseCommand': ['python', '-m', 'app'],\n",
       "   'arguments': [],\n",
       "   'inputs': {'raster': {'type': 'File', 'inputBinding': {'position': 1}}},\n",
       "   'outputs': {'binary_mask_item': {'outputBinding': {'glob': '*.tif'},\n",
       "     'type': 'File'}}},\n",
       "  {'class': 'CommandLineTool',\n",
       "   'id': 'stac',\n",
       "   'requirements': {'InlineJavascriptRequirement': {},\n",
       "    'EnvVarRequirement': {'envDef': {'PATH': '/usr/local/sbin:/usr/local/bin:/usr/sbin:/usr/bin:/sbin:/bin',\n",
       "      'PYTHONPATH': '/app'}},\n",
       "    'ResourceRequirement': {'coresMax': 1, 'ramMax': 512}},\n",
       "   'hints': {'DockerRequirement': {'dockerPull': 'ghcr.io/eoap/mastering-app-package/stac@sha256:ec9d8685e00238ec34f95c3b8d97d81bc70fa1fc37b443e70c79831f9b05f526'}},\n",
       "   'baseCommand': ['python', '-m', 'app'],\n",
       "   'arguments': [],\n",
       "   'inputs': {'item': {'type': {'type': 'array',\n",
       "      'items': 'string',\n",
       "      'inputBinding': {'prefix': '--input-item'}}},\n",
       "    'rasters': {'type': {'type': 'array',\n",
       "      'items': 'File',\n",
       "      'inputBinding': {'prefix': '--water-body'}}}},\n",
       "   'outputs': {'stac_catalog': {'outputBinding': {'glob': '.'},\n",
       "     'type': 'Directory'}}}],\n",
       " 's:codeRepository': {'URL': 'https://github.com/eoap/mastering-app-package.git'},\n",
       " 's:author': [{'class': 's:Person',\n",
       "   's.name': 'Jane Doe',\n",
       "   's.email': 'jane.doe@acme.earth',\n",
       "   's.affiliation': 'ACME'}]}"
      ]
     },
     "execution_count": 5,
     "metadata": {},
     "output_type": "execute_result"
    }
   ],
   "source": [
    "app_package_content"
   ]
  },
  {
   "cell_type": "markdown",
   "metadata": {},
   "source": [
    "## Deploy the application package on the OGC API Processes endpoint"
   ]
  },
  {
   "cell_type": "code",
   "execution_count": 9,
   "metadata": {},
   "outputs": [
    {
     "data": {
      "text/plain": [
       "201"
      ]
     },
     "execution_count": 9,
     "metadata": {},
     "output_type": "execute_result"
    }
   ],
   "source": [
    "headers = {\"accept\": \"application/json\", \n",
    "          \"Content-Type\": \"application/cwl+yaml\"}\n",
    "\n",
    "response = requests.post(\n",
    "    f\"{ogc_api_endpoint}/processes?w={process_id}\",\n",
    "    headers=headers,\n",
    "    json=app_package_content\n",
    ")\n",
    "\n",
    "response.status_code"
   ]
  },
  {
   "cell_type": "code",
   "execution_count": 10,
   "metadata": {},
   "outputs": [
    {
     "name": "stdout",
     "output_type": "stream",
     "text": [
      "{\"id\":\"water-bodies\",\"title\":\"Water bodies detection based on NDWI and otsu threshold\",\"description\":\"Water bodies detection based on NDWI and otsu threshold applied to Sentinel-2 COG STAC items\",\"mutable\":true,\"version\":\"1.0.0\",\"metadata\":[{\"role\":\"https://schema.org/softwareVersion\",\"value\":\"1.0.0\"},{\"role\":\"https://schema.org/author\",\"value\":{\"@context\":\"https://schema.org\",\"@type\":\"Person\",\"s.name\":\"Jane Doe\",\"s.email\":\"jane.doe@acme.earth\",\"s.affiliation\":\"ACME\"}}],\"outputTransmission\":[\"value\",\"reference\"],\"jobControlOptions\":[\"async-execute\",\"dismiss\"],\"links\":[{\"rel\":\"http://www.opengis.net/def/rel/ogc/1.0/execute\",\"type\":\"application/json\",\"title\":\"Execute End Point\",\"href\":\"http://localhost:8080/eric/ogc-api/processes/water-bodies/execution\"}]}\n",
      "\n"
     ]
    }
   ],
   "source": [
    "print(response.json())"
   ]
  },
  {
   "cell_type": "code",
   "execution_count": 11,
   "metadata": {},
   "outputs": [
    {
     "name": "stdout",
     "output_type": "stream",
     "text": [
      "201\n"
     ]
    }
   ],
   "source": [
    "print(response.status_code)"
   ]
  },
  {
   "cell_type": "markdown",
   "metadata": {},
   "source": [
    "## Get the process description"
   ]
  },
  {
   "cell_type": "code",
   "execution_count": 14,
   "metadata": {},
   "outputs": [
    {
     "data": {
      "text/plain": [
       "{'id': 'water-bodies',\n",
       " 'title': 'Water bodies detection based on NDWI and otsu threshold',\n",
       " 'description': 'Water bodies detection based on NDWI and otsu threshold applied to Sentinel-2 COG STAC items',\n",
       " 'mutable': True,\n",
       " 'version': '1.0.0',\n",
       " 'metadata': [{'role': 'https://schema.org/softwareVersion', 'value': '1.0.0'},\n",
       "  {'role': 'https://schema.org/author',\n",
       "   'value': {'@context': 'https://schema.org',\n",
       "    '@type': 'Person',\n",
       "    's.name': 'Jane Doe',\n",
       "    's.email': 'jane.doe@acme.earth',\n",
       "    's.affiliation': 'ACME'}}],\n",
       " 'outputTransmission': ['value', 'reference'],\n",
       " 'jobControlOptions': ['async-execute', 'dismiss'],\n",
       " 'links': [{'rel': 'http://www.opengis.net/def/rel/ogc/1.0/execute',\n",
       "   'type': 'application/json',\n",
       "   'title': 'Execute End Point',\n",
       "   'href': 'http://localhost:8080/eric/ogc-api/processes/water-bodies/execution'}],\n",
       " 'inputs': {'aoi': {'title': 'area of interest',\n",
       "   'description': 'area of interest as a bounding box',\n",
       "   'schema': {'type': 'string'}},\n",
       "  'bands': {'title': 'bands used for the NDWI',\n",
       "   'description': 'bands used for the NDWI',\n",
       "   'schema': {'type': 'string', 'default': \"['green', 'nir']\"}},\n",
       "  'epsg': {'title': 'EPSG code',\n",
       "   'description': 'EPSG code',\n",
       "   'schema': {'type': 'string', 'default': 'EPSG:4326', 'nullable': True}},\n",
       "  'stac_items': {'title': 'Sentinel-2 STAC items',\n",
       "   'description': 'list of Sentinel-2 COG STAC items',\n",
       "   'schema': {'type': 'string'}}},\n",
       " 'outputs': {'stac_catalog': {'title': 'stac_catalog',\n",
       "   'description': 'None',\n",
       "   'extended-schema': {'oneOf': [{'allOf': [{'$ref': 'http://zoo-project.org/dl/link.json'},\n",
       "       {'type': 'object',\n",
       "        'properties': {'type': {'enum': ['application/json']}}}]},\n",
       "     {'type': 'object',\n",
       "      'required': ['value'],\n",
       "      'properties': {'value': {'oneOf': [{'type': 'object'}]}}}]},\n",
       "   'schema': {'oneOf': [{'type': 'object'}]}}}}"
      ]
     },
     "execution_count": 14,
     "metadata": {},
     "output_type": "execute_result"
    }
   ],
   "source": [
    "r = requests.get(f\"{ogc_api_endpoint}/processes/{process_id}\")\n",
    "\n",
    "r.json()"
   ]
  },
  {
   "cell_type": "markdown",
   "metadata": {},
   "source": [
    "## Submit a processing request"
   ]
  },
  {
   "cell_type": "code",
   "execution_count": 15,
   "metadata": {},
   "outputs": [
    {
     "name": "stdout",
     "output_type": "stream",
     "text": [
      "201\n",
      "{'jobID': '3eae527c-8c5d-11ef-b8de-0ac1619c2c37', 'type': 'process', 'processID': 'water-bodies', 'created': '2024-10-17T07:55:58.819Z', 'started': '2024-10-17T07:55:58.819Z', 'updated': '2024-10-17T07:55:58.819Z', 'status': 'running', 'message': 'ZOO-Kernel accepted to run your service!', 'links': [{'title': 'Status location', 'rel': 'monitor', 'type': 'application/json', 'href': 'http://localhost:8080/eric/ogc-api/jobs/3eae527c-8c5d-11ef-b8de-0ac1619c2c37'}]}\n"
     ]
    }
   ],
   "source": [
    "headers = {\n",
    "    'accept': '*/*',\n",
    "    'Prefer': 'respond-async;return=representation',\n",
    "    'Content-Type': 'application/json'\n",
    "}\n",
    "data = {\n",
    "    \"inputs\": {\n",
    "        \"stac_items\": [\n",
    "            \"https://earth-search.aws.element84.com/v0/collections/sentinel-s2-l2a-cogs/items/S2B_10TFK_20210713_0_L2A\",\n",
    "            \"https://earth-search.aws.element84.com/v0/collections/sentinel-s2-l2a-cogs/items/S2A_10TFK_20220524_0_L2A\"\n",
    "        ],\n",
    "        \"aoi\": \"-121.399,39.834,-120.74,40.472\",\n",
    "        \"epsg\": \"EPSG:4326\",\n",
    "        \"bands\": [\n",
    "            \"green\",\n",
    "            \"nir\"\n",
    "        ]\n",
    "    }\n",
    "}\n",
    "\n",
    "response = requests.post(f\"{ogc_api_endpoint}/processes/{process_id}/execution\", headers=headers, json=data)\n",
    "\n",
    "print(response.status_code)\n",
    "print(response.json())"
   ]
  },
  {
   "cell_type": "markdown",
   "metadata": {},
   "source": [
    "## Monitor the processing request"
   ]
  },
  {
   "cell_type": "code",
   "execution_count": 16,
   "metadata": {},
   "outputs": [],
   "source": [
    "jobid = response.json().get(\"jobID\")"
   ]
  },
  {
   "cell_type": "code",
   "execution_count": 17,
   "metadata": {},
   "outputs": [
    {
     "name": "stdout",
     "output_type": "stream",
     "text": [
      "Job status: running\n",
      "Job status: running\n",
      "Job status: running\n",
      "Job status: running\n",
      "Job status: running\n",
      "Job status: running\n",
      "Job status: running\n",
      "Job status: running\n",
      "Job status: running\n",
      "Job status: running\n",
      "Job status: running\n",
      "Job status: running\n",
      "Job status: running\n",
      "Job status: running\n",
      "Job status: running\n",
      "Job status: running\n",
      "Job status: running\n",
      "Job status: successful\n"
     ]
    }
   ],
   "source": [
    "job_url = f\"{ogc_api_endpoint}/jobs/{jobid}\"\n",
    "\n",
    "headers = {\n",
    "    'accept': 'application/json',\n",
    "}\n",
    "\n",
    "while True:\n",
    "    response = requests.get(job_url, headers=headers)\n",
    "\n",
    "    if response.status_code == 200:\n",
    "        data = response.json()\n",
    "        status = data.get(\"status\")\n",
    "        if status == \"successful\":\n",
    "            print(\"Job status:\", status)\n",
    "            break  # Exit the loop if OK\n",
    "        elif status in [\"failed\"]:\n",
    "            print(\"processing failed\")\n",
    "            break\n",
    "        else:\n",
    "            print(\"Job status:\", status)\n",
    "            time.sleep(10)\n",
    "    else:\n",
    "        print(\"Error:\", response.status_code)\n",
    "        break  "
   ]
  },
  {
   "cell_type": "code",
   "execution_count": 19,
   "metadata": {},
   "outputs": [],
   "source": [
    "if status in [\"failed\"]:\n",
    "    raise ValueError(\"Execution failed - you won't be able to get the results\")"
   ]
  },
  {
   "cell_type": "code",
   "execution_count": 20,
   "metadata": {},
   "outputs": [
    {
     "name": "stdout",
     "output_type": "stream",
     "text": [
      "{'stac_catalog': {'value': {'type': 'FeatureCollection', 'features': [{'type': 'Feature', 'stac_version': '1.0.0', 'id': 'S2B_10TFK_20210713_0_L2A', 'properties': {'proj:epsg': 32610, 'proj:geometry': {'type': 'Polygon', 'coordinates': [[[636990.0, 4410550.0], [691590.0, 4410550.0], [691590.0, 4482600.0], [636990.0, 4482600.0], [636990.0, 4410550.0]]]}, 'proj:bbox': [636990.0, 4410550.0, 691590.0, 4482600.0], 'proj:shape': [7205, 5460], 'proj:transform': [10.0, 0.0, 636990.0, 0.0, -10.0, 4482600.0, 0.0, 0.0, 1.0], 'proj:projjson': {'$schema': 'https://proj.org/schemas/v0.7/projjson.schema.json', 'type': 'ProjectedCRS', 'name': 'WGS 84 / UTM zone 10N', 'base_crs': {'name': 'WGS 84', 'datum': {'type': 'GeodeticReferenceFrame', 'name': 'World Geodetic System 1984', 'ellipsoid': {'name': 'WGS 84', 'semi_major_axis': 6378137, 'inverse_flattening': 298.257223563}}, 'coordinate_system': {'subtype': 'ellipsoidal', 'axis': [{'name': 'Geodetic latitude', 'abbreviation': 'Lat', 'direction': 'north', 'unit': 'degree'}, {'name': 'Geodetic longitude', 'abbreviation': 'Lon', 'direction': 'east', 'unit': 'degree'}]}, 'id': {'authority': 'EPSG', 'code': 4326}}, 'conversion': {'name': 'UTM zone 10N', 'method': {'name': 'Transverse Mercator', 'id': {'authority': 'EPSG', 'code': 9807}}, 'parameters': [{'name': 'Latitude of natural origin', 'value': 0, 'unit': 'degree', 'id': {'authority': 'EPSG', 'code': 8801}}, {'name': 'Longitude of natural origin', 'value': -123, 'unit': 'degree', 'id': {'authority': 'EPSG', 'code': 8802}}, {'name': 'Scale factor at natural origin', 'value': 0.9996, 'unit': 'unity', 'id': {'authority': 'EPSG', 'code': 8805}}, {'name': 'False easting', 'value': 500000, 'unit': 'metre', 'id': {'authority': 'EPSG', 'code': 8806}}, {'name': 'False northing', 'value': 0, 'unit': 'metre', 'id': {'authority': 'EPSG', 'code': 8807}}]}, 'coordinate_system': {'subtype': 'Cartesian', 'axis': [{'name': 'Easting', 'abbreviation': '', 'direction': 'east', 'unit': 'metre'}, {'name': 'Northing', 'abbreviation': '', 'direction': 'north', 'unit': 'metre'}]}, 'id': {'authority': 'EPSG', 'code': 32610}}, 'proj:wkt2': 'PROJCS[\"WGS 84 / UTM zone 10N\",GEOGCS[\"WGS 84\",DATUM[\"WGS_1984\",SPHEROID[\"WGS 84\",6378137,298.257223563,AUTHORITY[\"EPSG\",\"7030\"]],AUTHORITY[\"EPSG\",\"6326\"]],PRIMEM[\"Greenwich\",0,AUTHORITY[\"EPSG\",\"8901\"]],UNIT[\"degree\",0.0174532925199433,AUTHORITY[\"EPSG\",\"9122\"]],AUTHORITY[\"EPSG\",\"4326\"]],PROJECTION[\"Transverse_Mercator\"],PARAMETER[\"latitude_of_origin\",0],PARAMETER[\"central_meridian\",-123],PARAMETER[\"scale_factor\",0.9996],PARAMETER[\"false_easting\",500000],PARAMETER[\"false_northing\",0],UNIT[\"metre\",1,AUTHORITY[\"EPSG\",\"9001\"]],AXIS[\"Easting\",EAST],AXIS[\"Northing\",NORTH],AUTHORITY[\"EPSG\",\"32610\"]]', 'datetime': '2021-07-13T19:03:24Z'}, 'geometry': {'type': 'Polygon', 'coordinates': [[[-121.39905410179915, 39.833916743259095], [-120.76135965075635, 39.82336095080461], [-120.73995321724426, 40.471999341669175], [-121.38373773482932, 40.482798837728375], [-121.39905410179915, 39.833916743259095]]]}, 'links': [{'rel': 'collection', 'href': 's3://results/3eae527c-8c5d-11ef-b8de-0ac1619c2c37/3eae527c-8c5d-11ef-b8de-0ac1619c2c37/collection.json', 'type': 'application/json', 'title': 'Processing results'}, {'rel': 'root', 'href': 's3://results/3eae527c-8c5d-11ef-b8de-0ac1619c2c37/catalog.json', 'type': 'application/json'}, {'rel': 'self', 'href': 's3://results/3eae527c-8c5d-11ef-b8de-0ac1619c2c37/3eae527c-8c5d-11ef-b8de-0ac1619c2c37/S2B_10TFK_20210713_0_L2A/S2B_10TFK_20210713_0_L2A.json', 'type': 'application/json'}, {'rel': 'parent', 'href': 's3://results/3eae527c-8c5d-11ef-b8de-0ac1619c2c37/3eae527c-8c5d-11ef-b8de-0ac1619c2c37/collection.json', 'type': 'application/json', 'title': 'Processing results'}], 'assets': {'data': {'href': 's3://results/3eae527c-8c5d-11ef-b8de-0ac1619c2c37/3eae527c-8c5d-11ef-b8de-0ac1619c2c37/S2B_10TFK_20210713_0_L2A/otsu.tif', 'type': 'image/tiff; application=geotiff', 'storage:platform': 'eoap', 'storage:requester_pays': False, 'storage:tier': 'Standard', 'storage:region': 'us-east-1', 'storage:endpoint': 'http://eoap-zoo-project-localstack.eoap-zoo-project.svc.cluster.local:4566', 'roles': ['data', 'visual']}}, 'bbox': [-121.39905410179915, 39.82336095080461, -120.73995321724426, 40.482798837728375], 'stac_extensions': ['https://stac-extensions.github.io/projection/v1.1.0/schema.json'], 'collection': '3eae527c-8c5d-11ef-b8de-0ac1619c2c37'}, {'type': 'Feature', 'stac_version': '1.0.0', 'id': 'S2A_10TFK_20220524_0_L2A', 'properties': {'proj:epsg': 32610, 'proj:geometry': {'type': 'Polygon', 'coordinates': [[[636990.0, 4410550.0], [691590.0, 4410550.0], [691590.0, 4482600.0], [636990.0, 4482600.0], [636990.0, 4410550.0]]]}, 'proj:bbox': [636990.0, 4410550.0, 691590.0, 4482600.0], 'proj:shape': [7205, 5460], 'proj:transform': [10.0, 0.0, 636990.0, 0.0, -10.0, 4482600.0, 0.0, 0.0, 1.0], 'proj:projjson': {'$schema': 'https://proj.org/schemas/v0.7/projjson.schema.json', 'type': 'ProjectedCRS', 'name': 'WGS 84 / UTM zone 10N', 'base_crs': {'name': 'WGS 84', 'datum': {'type': 'GeodeticReferenceFrame', 'name': 'World Geodetic System 1984', 'ellipsoid': {'name': 'WGS 84', 'semi_major_axis': 6378137, 'inverse_flattening': 298.257223563}}, 'coordinate_system': {'subtype': 'ellipsoidal', 'axis': [{'name': 'Geodetic latitude', 'abbreviation': 'Lat', 'direction': 'north', 'unit': 'degree'}, {'name': 'Geodetic longitude', 'abbreviation': 'Lon', 'direction': 'east', 'unit': 'degree'}]}, 'id': {'authority': 'EPSG', 'code': 4326}}, 'conversion': {'name': 'UTM zone 10N', 'method': {'name': 'Transverse Mercator', 'id': {'authority': 'EPSG', 'code': 9807}}, 'parameters': [{'name': 'Latitude of natural origin', 'value': 0, 'unit': 'degree', 'id': {'authority': 'EPSG', 'code': 8801}}, {'name': 'Longitude of natural origin', 'value': -123, 'unit': 'degree', 'id': {'authority': 'EPSG', 'code': 8802}}, {'name': 'Scale factor at natural origin', 'value': 0.9996, 'unit': 'unity', 'id': {'authority': 'EPSG', 'code': 8805}}, {'name': 'False easting', 'value': 500000, 'unit': 'metre', 'id': {'authority': 'EPSG', 'code': 8806}}, {'name': 'False northing', 'value': 0, 'unit': 'metre', 'id': {'authority': 'EPSG', 'code': 8807}}]}, 'coordinate_system': {'subtype': 'Cartesian', 'axis': [{'name': 'Easting', 'abbreviation': '', 'direction': 'east', 'unit': 'metre'}, {'name': 'Northing', 'abbreviation': '', 'direction': 'north', 'unit': 'metre'}]}, 'id': {'authority': 'EPSG', 'code': 32610}}, 'proj:wkt2': 'PROJCS[\"WGS 84 / UTM zone 10N\",GEOGCS[\"WGS 84\",DATUM[\"WGS_1984\",SPHEROID[\"WGS 84\",6378137,298.257223563,AUTHORITY[\"EPSG\",\"7030\"]],AUTHORITY[\"EPSG\",\"6326\"]],PRIMEM[\"Greenwich\",0,AUTHORITY[\"EPSG\",\"8901\"]],UNIT[\"degree\",0.0174532925199433,AUTHORITY[\"EPSG\",\"9122\"]],AUTHORITY[\"EPSG\",\"4326\"]],PROJECTION[\"Transverse_Mercator\"],PARAMETER[\"latitude_of_origin\",0],PARAMETER[\"central_meridian\",-123],PARAMETER[\"scale_factor\",0.9996],PARAMETER[\"false_easting\",500000],PARAMETER[\"false_northing\",0],UNIT[\"metre\",1,AUTHORITY[\"EPSG\",\"9001\"]],AXIS[\"Easting\",EAST],AXIS[\"Northing\",NORTH],AUTHORITY[\"EPSG\",\"32610\"]]', 'datetime': '2022-05-24T19:03:29Z'}, 'geometry': {'type': 'Polygon', 'coordinates': [[[-121.39905410179915, 39.833916743259095], [-120.76135965075635, 39.82336095080461], [-120.73995321724426, 40.471999341669175], [-121.38373773482932, 40.482798837728375], [-121.39905410179915, 39.833916743259095]]]}, 'links': [{'rel': 'collection', 'href': 's3://results/3eae527c-8c5d-11ef-b8de-0ac1619c2c37/3eae527c-8c5d-11ef-b8de-0ac1619c2c37/collection.json', 'type': 'application/json', 'title': 'Processing results'}, {'rel': 'root', 'href': 's3://results/3eae527c-8c5d-11ef-b8de-0ac1619c2c37/catalog.json', 'type': 'application/json'}, {'rel': 'self', 'href': 's3://results/3eae527c-8c5d-11ef-b8de-0ac1619c2c37/3eae527c-8c5d-11ef-b8de-0ac1619c2c37/S2A_10TFK_20220524_0_L2A/S2A_10TFK_20220524_0_L2A.json', 'type': 'application/json'}, {'rel': 'parent', 'href': 's3://results/3eae527c-8c5d-11ef-b8de-0ac1619c2c37/3eae527c-8c5d-11ef-b8de-0ac1619c2c37/collection.json', 'type': 'application/json', 'title': 'Processing results'}], 'assets': {'data': {'href': 's3://results/3eae527c-8c5d-11ef-b8de-0ac1619c2c37/3eae527c-8c5d-11ef-b8de-0ac1619c2c37/S2A_10TFK_20220524_0_L2A/otsu.tif', 'type': 'image/tiff; application=geotiff', 'storage:platform': 'eoap', 'storage:requester_pays': False, 'storage:tier': 'Standard', 'storage:region': 'us-east-1', 'storage:endpoint': 'http://eoap-zoo-project-localstack.eoap-zoo-project.svc.cluster.local:4566', 'roles': ['data', 'visual']}}, 'bbox': [-121.39905410179915, 39.82336095080461, -120.73995321724426, 40.482798837728375], 'stac_extensions': ['https://stac-extensions.github.io/projection/v1.1.0/schema.json'], 'collection': '3eae527c-8c5d-11ef-b8de-0ac1619c2c37'}], 'id': '3eae527c-8c5d-11ef-b8de-0ac1619c2c37'}}}\n"
     ]
    }
   ],
   "source": [
    "job_results = f\"{ogc_api_endpoint}/jobs/{jobid}/results\"\n",
    "\n",
    "headers = {\n",
    "    'accept': 'application/json',\n",
    "}\n",
    "response = requests.get(job_results, headers=headers)\n",
    "\n",
    "print(response.json())"
   ]
  },
  {
   "cell_type": "code",
   "execution_count": 21,
   "metadata": {},
   "outputs": [
    {
     "data": {
      "text/plain": [
       "{'stac_catalog': {'value': {'type': 'FeatureCollection',\n",
       "   'features': [{'type': 'Feature',\n",
       "     'stac_version': '1.0.0',\n",
       "     'id': 'S2B_10TFK_20210713_0_L2A',\n",
       "     'properties': {'proj:epsg': 32610,\n",
       "      'proj:geometry': {'type': 'Polygon',\n",
       "       'coordinates': [[[636990.0, 4410550.0],\n",
       "         [691590.0, 4410550.0],\n",
       "         [691590.0, 4482600.0],\n",
       "         [636990.0, 4482600.0],\n",
       "         [636990.0, 4410550.0]]]},\n",
       "      'proj:bbox': [636990.0, 4410550.0, 691590.0, 4482600.0],\n",
       "      'proj:shape': [7205, 5460],\n",
       "      'proj:transform': [10.0,\n",
       "       0.0,\n",
       "       636990.0,\n",
       "       0.0,\n",
       "       -10.0,\n",
       "       4482600.0,\n",
       "       0.0,\n",
       "       0.0,\n",
       "       1.0],\n",
       "      'proj:projjson': {'$schema': 'https://proj.org/schemas/v0.7/projjson.schema.json',\n",
       "       'type': 'ProjectedCRS',\n",
       "       'name': 'WGS 84 / UTM zone 10N',\n",
       "       'base_crs': {'name': 'WGS 84',\n",
       "        'datum': {'type': 'GeodeticReferenceFrame',\n",
       "         'name': 'World Geodetic System 1984',\n",
       "         'ellipsoid': {'name': 'WGS 84',\n",
       "          'semi_major_axis': 6378137,\n",
       "          'inverse_flattening': 298.257223563}},\n",
       "        'coordinate_system': {'subtype': 'ellipsoidal',\n",
       "         'axis': [{'name': 'Geodetic latitude',\n",
       "           'abbreviation': 'Lat',\n",
       "           'direction': 'north',\n",
       "           'unit': 'degree'},\n",
       "          {'name': 'Geodetic longitude',\n",
       "           'abbreviation': 'Lon',\n",
       "           'direction': 'east',\n",
       "           'unit': 'degree'}]},\n",
       "        'id': {'authority': 'EPSG', 'code': 4326}},\n",
       "       'conversion': {'name': 'UTM zone 10N',\n",
       "        'method': {'name': 'Transverse Mercator',\n",
       "         'id': {'authority': 'EPSG', 'code': 9807}},\n",
       "        'parameters': [{'name': 'Latitude of natural origin',\n",
       "          'value': 0,\n",
       "          'unit': 'degree',\n",
       "          'id': {'authority': 'EPSG', 'code': 8801}},\n",
       "         {'name': 'Longitude of natural origin',\n",
       "          'value': -123,\n",
       "          'unit': 'degree',\n",
       "          'id': {'authority': 'EPSG', 'code': 8802}},\n",
       "         {'name': 'Scale factor at natural origin',\n",
       "          'value': 0.9996,\n",
       "          'unit': 'unity',\n",
       "          'id': {'authority': 'EPSG', 'code': 8805}},\n",
       "         {'name': 'False easting',\n",
       "          'value': 500000,\n",
       "          'unit': 'metre',\n",
       "          'id': {'authority': 'EPSG', 'code': 8806}},\n",
       "         {'name': 'False northing',\n",
       "          'value': 0,\n",
       "          'unit': 'metre',\n",
       "          'id': {'authority': 'EPSG', 'code': 8807}}]},\n",
       "       'coordinate_system': {'subtype': 'Cartesian',\n",
       "        'axis': [{'name': 'Easting',\n",
       "          'abbreviation': '',\n",
       "          'direction': 'east',\n",
       "          'unit': 'metre'},\n",
       "         {'name': 'Northing',\n",
       "          'abbreviation': '',\n",
       "          'direction': 'north',\n",
       "          'unit': 'metre'}]},\n",
       "       'id': {'authority': 'EPSG', 'code': 32610}},\n",
       "      'proj:wkt2': 'PROJCS[\"WGS 84 / UTM zone 10N\",GEOGCS[\"WGS 84\",DATUM[\"WGS_1984\",SPHEROID[\"WGS 84\",6378137,298.257223563,AUTHORITY[\"EPSG\",\"7030\"]],AUTHORITY[\"EPSG\",\"6326\"]],PRIMEM[\"Greenwich\",0,AUTHORITY[\"EPSG\",\"8901\"]],UNIT[\"degree\",0.0174532925199433,AUTHORITY[\"EPSG\",\"9122\"]],AUTHORITY[\"EPSG\",\"4326\"]],PROJECTION[\"Transverse_Mercator\"],PARAMETER[\"latitude_of_origin\",0],PARAMETER[\"central_meridian\",-123],PARAMETER[\"scale_factor\",0.9996],PARAMETER[\"false_easting\",500000],PARAMETER[\"false_northing\",0],UNIT[\"metre\",1,AUTHORITY[\"EPSG\",\"9001\"]],AXIS[\"Easting\",EAST],AXIS[\"Northing\",NORTH],AUTHORITY[\"EPSG\",\"32610\"]]',\n",
       "      'datetime': '2021-07-13T19:03:24Z'},\n",
       "     'geometry': {'type': 'Polygon',\n",
       "      'coordinates': [[[-121.39905410179915, 39.833916743259095],\n",
       "        [-120.76135965075635, 39.82336095080461],\n",
       "        [-120.73995321724426, 40.471999341669175],\n",
       "        [-121.38373773482932, 40.482798837728375],\n",
       "        [-121.39905410179915, 39.833916743259095]]]},\n",
       "     'links': [{'rel': 'collection',\n",
       "       'href': 's3://results/3eae527c-8c5d-11ef-b8de-0ac1619c2c37/3eae527c-8c5d-11ef-b8de-0ac1619c2c37/collection.json',\n",
       "       'type': 'application/json',\n",
       "       'title': 'Processing results'},\n",
       "      {'rel': 'root',\n",
       "       'href': 's3://results/3eae527c-8c5d-11ef-b8de-0ac1619c2c37/catalog.json',\n",
       "       'type': 'application/json'},\n",
       "      {'rel': 'self',\n",
       "       'href': 's3://results/3eae527c-8c5d-11ef-b8de-0ac1619c2c37/3eae527c-8c5d-11ef-b8de-0ac1619c2c37/S2B_10TFK_20210713_0_L2A/S2B_10TFK_20210713_0_L2A.json',\n",
       "       'type': 'application/json'},\n",
       "      {'rel': 'parent',\n",
       "       'href': 's3://results/3eae527c-8c5d-11ef-b8de-0ac1619c2c37/3eae527c-8c5d-11ef-b8de-0ac1619c2c37/collection.json',\n",
       "       'type': 'application/json',\n",
       "       'title': 'Processing results'}],\n",
       "     'assets': {'data': {'href': 's3://results/3eae527c-8c5d-11ef-b8de-0ac1619c2c37/3eae527c-8c5d-11ef-b8de-0ac1619c2c37/S2B_10TFK_20210713_0_L2A/otsu.tif',\n",
       "       'type': 'image/tiff; application=geotiff',\n",
       "       'storage:platform': 'eoap',\n",
       "       'storage:requester_pays': False,\n",
       "       'storage:tier': 'Standard',\n",
       "       'storage:region': 'us-east-1',\n",
       "       'storage:endpoint': 'http://eoap-zoo-project-localstack.eoap-zoo-project.svc.cluster.local:4566',\n",
       "       'roles': ['data', 'visual']}},\n",
       "     'bbox': [-121.39905410179915,\n",
       "      39.82336095080461,\n",
       "      -120.73995321724426,\n",
       "      40.482798837728375],\n",
       "     'stac_extensions': ['https://stac-extensions.github.io/projection/v1.1.0/schema.json'],\n",
       "     'collection': '3eae527c-8c5d-11ef-b8de-0ac1619c2c37'},\n",
       "    {'type': 'Feature',\n",
       "     'stac_version': '1.0.0',\n",
       "     'id': 'S2A_10TFK_20220524_0_L2A',\n",
       "     'properties': {'proj:epsg': 32610,\n",
       "      'proj:geometry': {'type': 'Polygon',\n",
       "       'coordinates': [[[636990.0, 4410550.0],\n",
       "         [691590.0, 4410550.0],\n",
       "         [691590.0, 4482600.0],\n",
       "         [636990.0, 4482600.0],\n",
       "         [636990.0, 4410550.0]]]},\n",
       "      'proj:bbox': [636990.0, 4410550.0, 691590.0, 4482600.0],\n",
       "      'proj:shape': [7205, 5460],\n",
       "      'proj:transform': [10.0,\n",
       "       0.0,\n",
       "       636990.0,\n",
       "       0.0,\n",
       "       -10.0,\n",
       "       4482600.0,\n",
       "       0.0,\n",
       "       0.0,\n",
       "       1.0],\n",
       "      'proj:projjson': {'$schema': 'https://proj.org/schemas/v0.7/projjson.schema.json',\n",
       "       'type': 'ProjectedCRS',\n",
       "       'name': 'WGS 84 / UTM zone 10N',\n",
       "       'base_crs': {'name': 'WGS 84',\n",
       "        'datum': {'type': 'GeodeticReferenceFrame',\n",
       "         'name': 'World Geodetic System 1984',\n",
       "         'ellipsoid': {'name': 'WGS 84',\n",
       "          'semi_major_axis': 6378137,\n",
       "          'inverse_flattening': 298.257223563}},\n",
       "        'coordinate_system': {'subtype': 'ellipsoidal',\n",
       "         'axis': [{'name': 'Geodetic latitude',\n",
       "           'abbreviation': 'Lat',\n",
       "           'direction': 'north',\n",
       "           'unit': 'degree'},\n",
       "          {'name': 'Geodetic longitude',\n",
       "           'abbreviation': 'Lon',\n",
       "           'direction': 'east',\n",
       "           'unit': 'degree'}]},\n",
       "        'id': {'authority': 'EPSG', 'code': 4326}},\n",
       "       'conversion': {'name': 'UTM zone 10N',\n",
       "        'method': {'name': 'Transverse Mercator',\n",
       "         'id': {'authority': 'EPSG', 'code': 9807}},\n",
       "        'parameters': [{'name': 'Latitude of natural origin',\n",
       "          'value': 0,\n",
       "          'unit': 'degree',\n",
       "          'id': {'authority': 'EPSG', 'code': 8801}},\n",
       "         {'name': 'Longitude of natural origin',\n",
       "          'value': -123,\n",
       "          'unit': 'degree',\n",
       "          'id': {'authority': 'EPSG', 'code': 8802}},\n",
       "         {'name': 'Scale factor at natural origin',\n",
       "          'value': 0.9996,\n",
       "          'unit': 'unity',\n",
       "          'id': {'authority': 'EPSG', 'code': 8805}},\n",
       "         {'name': 'False easting',\n",
       "          'value': 500000,\n",
       "          'unit': 'metre',\n",
       "          'id': {'authority': 'EPSG', 'code': 8806}},\n",
       "         {'name': 'False northing',\n",
       "          'value': 0,\n",
       "          'unit': 'metre',\n",
       "          'id': {'authority': 'EPSG', 'code': 8807}}]},\n",
       "       'coordinate_system': {'subtype': 'Cartesian',\n",
       "        'axis': [{'name': 'Easting',\n",
       "          'abbreviation': '',\n",
       "          'direction': 'east',\n",
       "          'unit': 'metre'},\n",
       "         {'name': 'Northing',\n",
       "          'abbreviation': '',\n",
       "          'direction': 'north',\n",
       "          'unit': 'metre'}]},\n",
       "       'id': {'authority': 'EPSG', 'code': 32610}},\n",
       "      'proj:wkt2': 'PROJCS[\"WGS 84 / UTM zone 10N\",GEOGCS[\"WGS 84\",DATUM[\"WGS_1984\",SPHEROID[\"WGS 84\",6378137,298.257223563,AUTHORITY[\"EPSG\",\"7030\"]],AUTHORITY[\"EPSG\",\"6326\"]],PRIMEM[\"Greenwich\",0,AUTHORITY[\"EPSG\",\"8901\"]],UNIT[\"degree\",0.0174532925199433,AUTHORITY[\"EPSG\",\"9122\"]],AUTHORITY[\"EPSG\",\"4326\"]],PROJECTION[\"Transverse_Mercator\"],PARAMETER[\"latitude_of_origin\",0],PARAMETER[\"central_meridian\",-123],PARAMETER[\"scale_factor\",0.9996],PARAMETER[\"false_easting\",500000],PARAMETER[\"false_northing\",0],UNIT[\"metre\",1,AUTHORITY[\"EPSG\",\"9001\"]],AXIS[\"Easting\",EAST],AXIS[\"Northing\",NORTH],AUTHORITY[\"EPSG\",\"32610\"]]',\n",
       "      'datetime': '2022-05-24T19:03:29Z'},\n",
       "     'geometry': {'type': 'Polygon',\n",
       "      'coordinates': [[[-121.39905410179915, 39.833916743259095],\n",
       "        [-120.76135965075635, 39.82336095080461],\n",
       "        [-120.73995321724426, 40.471999341669175],\n",
       "        [-121.38373773482932, 40.482798837728375],\n",
       "        [-121.39905410179915, 39.833916743259095]]]},\n",
       "     'links': [{'rel': 'collection',\n",
       "       'href': 's3://results/3eae527c-8c5d-11ef-b8de-0ac1619c2c37/3eae527c-8c5d-11ef-b8de-0ac1619c2c37/collection.json',\n",
       "       'type': 'application/json',\n",
       "       'title': 'Processing results'},\n",
       "      {'rel': 'root',\n",
       "       'href': 's3://results/3eae527c-8c5d-11ef-b8de-0ac1619c2c37/catalog.json',\n",
       "       'type': 'application/json'},\n",
       "      {'rel': 'self',\n",
       "       'href': 's3://results/3eae527c-8c5d-11ef-b8de-0ac1619c2c37/3eae527c-8c5d-11ef-b8de-0ac1619c2c37/S2A_10TFK_20220524_0_L2A/S2A_10TFK_20220524_0_L2A.json',\n",
       "       'type': 'application/json'},\n",
       "      {'rel': 'parent',\n",
       "       'href': 's3://results/3eae527c-8c5d-11ef-b8de-0ac1619c2c37/3eae527c-8c5d-11ef-b8de-0ac1619c2c37/collection.json',\n",
       "       'type': 'application/json',\n",
       "       'title': 'Processing results'}],\n",
       "     'assets': {'data': {'href': 's3://results/3eae527c-8c5d-11ef-b8de-0ac1619c2c37/3eae527c-8c5d-11ef-b8de-0ac1619c2c37/S2A_10TFK_20220524_0_L2A/otsu.tif',\n",
       "       'type': 'image/tiff; application=geotiff',\n",
       "       'storage:platform': 'eoap',\n",
       "       'storage:requester_pays': False,\n",
       "       'storage:tier': 'Standard',\n",
       "       'storage:region': 'us-east-1',\n",
       "       'storage:endpoint': 'http://eoap-zoo-project-localstack.eoap-zoo-project.svc.cluster.local:4566',\n",
       "       'roles': ['data', 'visual']}},\n",
       "     'bbox': [-121.39905410179915,\n",
       "      39.82336095080461,\n",
       "      -120.73995321724426,\n",
       "      40.482798837728375],\n",
       "     'stac_extensions': ['https://stac-extensions.github.io/projection/v1.1.0/schema.json'],\n",
       "     'collection': '3eae527c-8c5d-11ef-b8de-0ac1619c2c37'}],\n",
       "   'id': '3eae527c-8c5d-11ef-b8de-0ac1619c2c37'}}}"
      ]
     },
     "execution_count": 21,
     "metadata": {},
     "output_type": "execute_result"
    }
   ],
   "source": [
    "response.json()"
   ]
  },
  {
   "cell_type": "code",
   "execution_count": 22,
   "metadata": {},
   "outputs": [
    {
     "data": {
      "text/plain": [
       "[<Item id=S2B_10TFK_20210713_0_L2A>, <Item id=S2A_10TFK_20220524_0_L2A>]"
      ]
     },
     "execution_count": 22,
     "metadata": {},
     "output_type": "execute_result"
    }
   ],
   "source": [
    "ItemCollection.from_dict(response.json()[\"stac_catalog\"][\"value\"]).items"
   ]
  },
  {
   "cell_type": "code",
   "execution_count": 23,
   "metadata": {},
   "outputs": [
    {
     "name": "stdout",
     "output_type": "stream",
     "text": [
      "{'data': <Asset href=s3://results/3eae527c-8c5d-11ef-b8de-0ac1619c2c37/3eae527c-8c5d-11ef-b8de-0ac1619c2c37/S2B_10TFK_20210713_0_L2A/otsu.tif>}\n",
      "{\n",
      "    \"href\": \"s3://results/3eae527c-8c5d-11ef-b8de-0ac1619c2c37/3eae527c-8c5d-11ef-b8de-0ac1619c2c37/S2B_10TFK_20210713_0_L2A/otsu.tif\",\n",
      "    \"roles\": [\n",
      "        \"data\",\n",
      "        \"visual\"\n",
      "    ],\n",
      "    \"storage:endpoint\": \"http://eoap-zoo-project-localstack.eoap-zoo-project.svc.cluster.local:4566\",\n",
      "    \"storage:platform\": \"eoap\",\n",
      "    \"storage:region\": \"us-east-1\",\n",
      "    \"storage:requester_pays\": false,\n",
      "    \"storage:tier\": \"Standard\",\n",
      "    \"type\": \"image/tiff; application=geotiff\"\n",
      "}\n",
      "{'data': <Asset href=s3://results/3eae527c-8c5d-11ef-b8de-0ac1619c2c37/3eae527c-8c5d-11ef-b8de-0ac1619c2c37/S2A_10TFK_20220524_0_L2A/otsu.tif>}\n",
      "{\n",
      "    \"href\": \"s3://results/3eae527c-8c5d-11ef-b8de-0ac1619c2c37/3eae527c-8c5d-11ef-b8de-0ac1619c2c37/S2A_10TFK_20220524_0_L2A/otsu.tif\",\n",
      "    \"roles\": [\n",
      "        \"data\",\n",
      "        \"visual\"\n",
      "    ],\n",
      "    \"storage:endpoint\": \"http://eoap-zoo-project-localstack.eoap-zoo-project.svc.cluster.local:4566\",\n",
      "    \"storage:platform\": \"eoap\",\n",
      "    \"storage:region\": \"us-east-1\",\n",
      "    \"storage:requester_pays\": false,\n",
      "    \"storage:tier\": \"Standard\",\n",
      "    \"type\": \"image/tiff; application=geotiff\"\n",
      "}\n"
     ]
    }
   ],
   "source": [
    "for item in ItemCollection.from_dict(response.json()[\"stac_catalog\"][\"value\"]).items:\n",
    "\n",
    "    print(item.get_assets())\n",
    "    print(json.dumps(item.get_assets()[\"data\"].to_dict(), sort_keys=True, indent=4))"
   ]
  },
  {
   "cell_type": "code",
   "execution_count": 14,
   "metadata": {},
   "outputs": [],
   "source": [
    "col = ItemCollection.from_dict(response.json()[\"stac_catalog\"][\"value\"])"
   ]
  },
  {
   "cell_type": "code",
   "execution_count": 130,
   "metadata": {},
   "outputs": [
    {
     "data": {
      "text/plain": [
       "[<Link rel=collection target=s3://results/9227b784-8bc9-11ef-af02-0ac1619c2c37/9227b784-8bc9-11ef-af02-0ac1619c2c37/collection.json>,\n",
       " <Link rel=root target=s3://results/9227b784-8bc9-11ef-af02-0ac1619c2c37/catalog.json>,\n",
       " <Link rel=self target=s3://results/9227b784-8bc9-11ef-af02-0ac1619c2c37/9227b784-8bc9-11ef-af02-0ac1619c2c37/S2B_10TFK_20210713_0_L2A/S2B_10TFK_20210713_0_L2A.json>,\n",
       " <Link rel=parent target=s3://results/9227b784-8bc9-11ef-af02-0ac1619c2c37/9227b784-8bc9-11ef-af02-0ac1619c2c37/collection.json>]"
      ]
     },
     "execution_count": 130,
     "metadata": {},
     "output_type": "execute_result"
    }
   ],
   "source": [
    "col.items[0].links"
   ]
  },
  {
   "cell_type": "code",
   "execution_count": 12,
   "metadata": {},
   "outputs": [
    {
     "data": {
      "text/plain": [
       "{'id': 'water_bodies',\n",
       " 'title': 'Water bodies detection based on NDWI and otsu threshold',\n",
       " 'description': 'Water bodies detection based on NDWI and otsu threshold',\n",
       " 'mutable': True,\n",
       " 'version': '1.4.1',\n",
       " 'metadata': [{'role': 'https://schema.org/softwareVersion',\n",
       "   'value': '1.4.1'}],\n",
       " 'outputTransmission': ['value', 'reference'],\n",
       " 'jobControlOptions': ['async-execute', 'dismiss'],\n",
       " 'links': [{'rel': 'http://www.opengis.net/def/rel/ogc/1.0/execute',\n",
       "   'type': 'application/json',\n",
       "   'title': 'Execute End Point',\n",
       "   'href': 'http://localhost:8080/alice/ogc-api/processes/water_bodies/execution'}],\n",
       " 'inputs': {'aoi': {'title': 'area of interest',\n",
       "   'description': 'area of interest as a bounding box',\n",
       "   'schema': {'type': 'string'}},\n",
       "  'bands': {'title': 'bands used for the NDWI',\n",
       "   'description': 'bands used for the NDWI',\n",
       "   'schema': {'type': 'string', 'default': \"['green', 'nir']\"}},\n",
       "  'epsg': {'title': 'EPSG code',\n",
       "   'description': 'EPSG code',\n",
       "   'schema': {'type': 'string', 'default': 'EPSG:4326', 'nullable': True}},\n",
       "  'stac_items': {'title': 'Sentinel-2 STAC items',\n",
       "   'description': 'list of Sentinel-2 COG STAC items',\n",
       "   'schema': {'type': 'string'}}},\n",
       " 'outputs': {'stac_catalog': {'title': 'stac_catalog',\n",
       "   'description': 'None',\n",
       "   'extended-schema': {'oneOf': [{'allOf': [{'$ref': 'http://zoo-project.org/dl/link.json'},\n",
       "       {'type': 'object',\n",
       "        'properties': {'type': {'enum': ['application/json']}}}]},\n",
       "     {'type': 'object',\n",
       "      'required': ['value'],\n",
       "      'properties': {'value': {'oneOf': [{'type': 'object'}]}}}]},\n",
       "   'schema': {'oneOf': [{'type': 'object'}]}}}}"
      ]
     },
     "execution_count": 12,
     "metadata": {},
     "output_type": "execute_result"
    }
   ],
   "source": []
  },
  {
   "cell_type": "code",
   "execution_count": null,
   "metadata": {
    "vscode": {
     "languageId": "shellscript"
    }
   },
   "outputs": [],
   "source": []
  }
 ],
 "metadata": {
  "kernelspec": {
   "display_name": "Python (ZOO-Project)",
   "language": "python",
   "name": "zoo_env"
  },
  "language_info": {
   "codemirror_mode": {
    "name": "ipython",
    "version": 3
   },
   "file_extension": ".py",
   "mimetype": "text/x-python",
   "name": "python",
   "nbconvert_exporter": "python",
   "pygments_lexer": "ipython3",
   "version": "3.9.19"
  }
 },
 "nbformat": 4,
 "nbformat_minor": 2
}
